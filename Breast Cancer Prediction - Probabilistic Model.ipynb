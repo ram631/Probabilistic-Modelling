{
 "cells": [
  {
   "cell_type": "code",
   "execution_count": 258,
   "id": "708e61d6",
   "metadata": {},
   "outputs": [],
   "source": [
    "import pandas as pd\n",
    "from pandas import read_csv\n",
    "from sklearn.model_selection import train_test_split\n",
    "from sklearn.preprocessing import LabelEncoder\n",
    "from sklearn.preprocessing import OrdinalEncoder\n",
    "from sklearn.feature_selection import SelectKBest\n",
    "from sklearn.feature_selection import chi2\n",
    "from matplotlib import pyplot as plt\n",
    "import seaborn as sns\n",
    "from sklearn.metrics import brier_score_loss\n",
    "from sklearn.feature_selection import mutual_info_classif\n",
    "from sklearn.metrics import make_scorer\n",
    "from sklearn.model_selection import cross_val_score\n",
    "from sklearn.model_selection import RepeatedStratifiedKFold\n",
    "from sklearn.dummy import DummyClassifier\n",
    "from numpy import mean\n",
    "from numpy import std\n",
    "from collections import Counter\n",
    "from sklearn.linear_model import LogisticRegression\n",
    "from sklearn.discriminant_analysis import LinearDiscriminantAnalysis\n",
    "from sklearn.discriminant_analysis import QuadraticDiscriminantAnalysis\n",
    "from sklearn.naive_bayes import GaussianNB\n",
    "from sklearn.naive_bayes import MultinomialNB\n",
    "from sklearn.gaussian_process import GaussianProcessClassifier"
   ]
  },
  {
   "cell_type": "markdown",
   "id": "fc292644",
   "metadata": {},
   "source": [
    "# 1. Loading Data"
   ]
  },
  {
   "cell_type": "code",
   "execution_count": 303,
   "id": "fd77844b",
   "metadata": {},
   "outputs": [],
   "source": [
    "train = pd.read_excel('~/Downloads/Train_Breast_Cancer.xlsx')\n",
    "test = pd.read_excel('~/Downloads/Test_Breast_Cancer.xlsx')"
   ]
  },
  {
   "cell_type": "code",
   "execution_count": 304,
   "id": "5add3165",
   "metadata": {},
   "outputs": [
    {
     "data": {
      "text/html": [
       "<div>\n",
       "<style scoped>\n",
       "    .dataframe tbody tr th:only-of-type {\n",
       "        vertical-align: middle;\n",
       "    }\n",
       "\n",
       "    .dataframe tbody tr th {\n",
       "        vertical-align: top;\n",
       "    }\n",
       "\n",
       "    .dataframe thead th {\n",
       "        text-align: right;\n",
       "    }\n",
       "</style>\n",
       "<table border=\"1\" class=\"dataframe\">\n",
       "  <thead>\n",
       "    <tr style=\"text-align: right;\">\n",
       "      <th></th>\n",
       "      <th>Class</th>\n",
       "      <th>Age</th>\n",
       "      <th>Menopause</th>\n",
       "      <th>Tumor-size</th>\n",
       "      <th>Inv-nodes</th>\n",
       "      <th>Node-caps</th>\n",
       "      <th>Deg-malig</th>\n",
       "      <th>Breast</th>\n",
       "      <th>Breast-quad</th>\n",
       "      <th>Irradiat</th>\n",
       "    </tr>\n",
       "  </thead>\n",
       "  <tbody>\n",
       "    <tr>\n",
       "      <th>0</th>\n",
       "      <td>no-recurrence-events</td>\n",
       "      <td>30-39</td>\n",
       "      <td>premeno</td>\n",
       "      <td>30-34</td>\n",
       "      <td>0-2</td>\n",
       "      <td>no</td>\n",
       "      <td>3</td>\n",
       "      <td>left</td>\n",
       "      <td>left_low</td>\n",
       "      <td>no</td>\n",
       "    </tr>\n",
       "    <tr>\n",
       "      <th>1</th>\n",
       "      <td>no-recurrence-events</td>\n",
       "      <td>40-49</td>\n",
       "      <td>premeno</td>\n",
       "      <td>20-24</td>\n",
       "      <td>0-2</td>\n",
       "      <td>no</td>\n",
       "      <td>2</td>\n",
       "      <td>right</td>\n",
       "      <td>right_up</td>\n",
       "      <td>no</td>\n",
       "    </tr>\n",
       "    <tr>\n",
       "      <th>2</th>\n",
       "      <td>no-recurrence-events</td>\n",
       "      <td>40-49</td>\n",
       "      <td>premeno</td>\n",
       "      <td>20-24</td>\n",
       "      <td>0-2</td>\n",
       "      <td>no</td>\n",
       "      <td>2</td>\n",
       "      <td>left</td>\n",
       "      <td>left_low</td>\n",
       "      <td>no</td>\n",
       "    </tr>\n",
       "    <tr>\n",
       "      <th>3</th>\n",
       "      <td>no-recurrence-events</td>\n",
       "      <td>60-69</td>\n",
       "      <td>ge40</td>\n",
       "      <td>15-19</td>\n",
       "      <td>0-2</td>\n",
       "      <td>no</td>\n",
       "      <td>2</td>\n",
       "      <td>right</td>\n",
       "      <td>left_up</td>\n",
       "      <td>no</td>\n",
       "    </tr>\n",
       "    <tr>\n",
       "      <th>4</th>\n",
       "      <td>no-recurrence-events</td>\n",
       "      <td>40-49</td>\n",
       "      <td>premeno</td>\n",
       "      <td>0-4</td>\n",
       "      <td>0-2</td>\n",
       "      <td>no</td>\n",
       "      <td>2</td>\n",
       "      <td>right</td>\n",
       "      <td>right_low</td>\n",
       "      <td>no</td>\n",
       "    </tr>\n",
       "  </tbody>\n",
       "</table>\n",
       "</div>"
      ],
      "text/plain": [
       "                  Class    Age Menopause Tumor-size Inv-nodes Node-caps  \\\n",
       "0  no-recurrence-events  30-39   premeno      30-34       0-2        no   \n",
       "1  no-recurrence-events  40-49   premeno      20-24       0-2        no   \n",
       "2  no-recurrence-events  40-49   premeno      20-24       0-2        no   \n",
       "3  no-recurrence-events  60-69      ge40      15-19       0-2        no   \n",
       "4  no-recurrence-events  40-49   premeno        0-4       0-2        no   \n",
       "\n",
       "   Deg-malig Breast Breast-quad Irradiat  \n",
       "0          3   left    left_low       no  \n",
       "1          2  right    right_up       no  \n",
       "2          2   left    left_low       no  \n",
       "3          2  right     left_up       no  \n",
       "4          2  right   right_low       no  "
      ]
     },
     "execution_count": 304,
     "metadata": {},
     "output_type": "execute_result"
    }
   ],
   "source": [
    "train.head()"
   ]
  },
  {
   "cell_type": "code",
   "execution_count": 267,
   "id": "425f0071",
   "metadata": {},
   "outputs": [
    {
     "data": {
      "text/plain": [
       "array([[0., 1., 2., ..., 0., 2., 0.],\n",
       "       [0., 2., 2., ..., 1., 5., 0.],\n",
       "       [0., 2., 2., ..., 0., 2., 0.],\n",
       "       ...,\n",
       "       [1., 4., 0., ..., 1., 3., 0.],\n",
       "       [1., 2., 0., ..., 0., 2., 0.],\n",
       "       [1., 3., 0., ..., 0., 2., 0.]])"
      ]
     },
     "execution_count": 267,
     "metadata": {},
     "output_type": "execute_result"
    }
   ],
   "source": [
    "# encoding the data\n",
    "\n",
    "oe = OrdinalEncoder()\n",
    "oe.fit(train)\n",
    "train2 = oe.transform(train)\n",
    "#train2 = train2.astype(float)\n",
    "train2"
   ]
  },
  {
   "cell_type": "code",
   "execution_count": 273,
   "id": "efeeb5bc",
   "metadata": {},
   "outputs": [
    {
     "data": {
      "text/html": [
       "<div>\n",
       "<style scoped>\n",
       "    .dataframe tbody tr th:only-of-type {\n",
       "        vertical-align: middle;\n",
       "    }\n",
       "\n",
       "    .dataframe tbody tr th {\n",
       "        vertical-align: top;\n",
       "    }\n",
       "\n",
       "    .dataframe thead th {\n",
       "        text-align: right;\n",
       "    }\n",
       "</style>\n",
       "<table border=\"1\" class=\"dataframe\">\n",
       "  <thead>\n",
       "    <tr style=\"text-align: right;\">\n",
       "      <th></th>\n",
       "      <th>Class</th>\n",
       "      <th>Age</th>\n",
       "      <th>Menopause</th>\n",
       "      <th>Tumor-size</th>\n",
       "      <th>Inv-nodes</th>\n",
       "      <th>Node-caps</th>\n",
       "      <th>Deg-malig</th>\n",
       "      <th>Breast</th>\n",
       "      <th>Breast-quad</th>\n",
       "      <th>Irradiat</th>\n",
       "    </tr>\n",
       "  </thead>\n",
       "  <tbody>\n",
       "    <tr>\n",
       "      <th>0</th>\n",
       "      <td>0.0</td>\n",
       "      <td>1.0</td>\n",
       "      <td>2.0</td>\n",
       "      <td>5.0</td>\n",
       "      <td>0.0</td>\n",
       "      <td>1.0</td>\n",
       "      <td>2.0</td>\n",
       "      <td>0.0</td>\n",
       "      <td>2.0</td>\n",
       "      <td>0.0</td>\n",
       "    </tr>\n",
       "    <tr>\n",
       "      <th>1</th>\n",
       "      <td>0.0</td>\n",
       "      <td>2.0</td>\n",
       "      <td>2.0</td>\n",
       "      <td>3.0</td>\n",
       "      <td>0.0</td>\n",
       "      <td>1.0</td>\n",
       "      <td>1.0</td>\n",
       "      <td>1.0</td>\n",
       "      <td>5.0</td>\n",
       "      <td>0.0</td>\n",
       "    </tr>\n",
       "    <tr>\n",
       "      <th>2</th>\n",
       "      <td>0.0</td>\n",
       "      <td>2.0</td>\n",
       "      <td>2.0</td>\n",
       "      <td>3.0</td>\n",
       "      <td>0.0</td>\n",
       "      <td>1.0</td>\n",
       "      <td>1.0</td>\n",
       "      <td>0.0</td>\n",
       "      <td>2.0</td>\n",
       "      <td>0.0</td>\n",
       "    </tr>\n",
       "    <tr>\n",
       "      <th>3</th>\n",
       "      <td>0.0</td>\n",
       "      <td>4.0</td>\n",
       "      <td>0.0</td>\n",
       "      <td>2.0</td>\n",
       "      <td>0.0</td>\n",
       "      <td>1.0</td>\n",
       "      <td>1.0</td>\n",
       "      <td>1.0</td>\n",
       "      <td>3.0</td>\n",
       "      <td>0.0</td>\n",
       "    </tr>\n",
       "    <tr>\n",
       "      <th>4</th>\n",
       "      <td>0.0</td>\n",
       "      <td>2.0</td>\n",
       "      <td>2.0</td>\n",
       "      <td>0.0</td>\n",
       "      <td>0.0</td>\n",
       "      <td>1.0</td>\n",
       "      <td>1.0</td>\n",
       "      <td>1.0</td>\n",
       "      <td>4.0</td>\n",
       "      <td>0.0</td>\n",
       "    </tr>\n",
       "    <tr>\n",
       "      <th>...</th>\n",
       "      <td>...</td>\n",
       "      <td>...</td>\n",
       "      <td>...</td>\n",
       "      <td>...</td>\n",
       "      <td>...</td>\n",
       "      <td>...</td>\n",
       "      <td>...</td>\n",
       "      <td>...</td>\n",
       "      <td>...</td>\n",
       "      <td>...</td>\n",
       "    </tr>\n",
       "    <tr>\n",
       "      <th>268</th>\n",
       "      <td>1.0</td>\n",
       "      <td>1.0</td>\n",
       "      <td>2.0</td>\n",
       "      <td>5.0</td>\n",
       "      <td>0.0</td>\n",
       "      <td>1.0</td>\n",
       "      <td>1.0</td>\n",
       "      <td>0.0</td>\n",
       "      <td>3.0</td>\n",
       "      <td>0.0</td>\n",
       "    </tr>\n",
       "    <tr>\n",
       "      <th>269</th>\n",
       "      <td>1.0</td>\n",
       "      <td>1.0</td>\n",
       "      <td>2.0</td>\n",
       "      <td>3.0</td>\n",
       "      <td>0.0</td>\n",
       "      <td>1.0</td>\n",
       "      <td>2.0</td>\n",
       "      <td>0.0</td>\n",
       "      <td>3.0</td>\n",
       "      <td>1.0</td>\n",
       "    </tr>\n",
       "    <tr>\n",
       "      <th>270</th>\n",
       "      <td>1.0</td>\n",
       "      <td>4.0</td>\n",
       "      <td>0.0</td>\n",
       "      <td>3.0</td>\n",
       "      <td>0.0</td>\n",
       "      <td>1.0</td>\n",
       "      <td>0.0</td>\n",
       "      <td>1.0</td>\n",
       "      <td>3.0</td>\n",
       "      <td>0.0</td>\n",
       "    </tr>\n",
       "    <tr>\n",
       "      <th>271</th>\n",
       "      <td>1.0</td>\n",
       "      <td>2.0</td>\n",
       "      <td>0.0</td>\n",
       "      <td>5.0</td>\n",
       "      <td>4.0</td>\n",
       "      <td>1.0</td>\n",
       "      <td>2.0</td>\n",
       "      <td>0.0</td>\n",
       "      <td>2.0</td>\n",
       "      <td>0.0</td>\n",
       "    </tr>\n",
       "    <tr>\n",
       "      <th>272</th>\n",
       "      <td>1.0</td>\n",
       "      <td>3.0</td>\n",
       "      <td>0.0</td>\n",
       "      <td>5.0</td>\n",
       "      <td>4.0</td>\n",
       "      <td>1.0</td>\n",
       "      <td>2.0</td>\n",
       "      <td>0.0</td>\n",
       "      <td>2.0</td>\n",
       "      <td>0.0</td>\n",
       "    </tr>\n",
       "  </tbody>\n",
       "</table>\n",
       "<p>273 rows × 10 columns</p>\n",
       "</div>"
      ],
      "text/plain": [
       "     Class  Age  Menopause  Tumor-size  Inv-nodes  Node-caps  Deg-malig  \\\n",
       "0      0.0  1.0        2.0         5.0        0.0        1.0        2.0   \n",
       "1      0.0  2.0        2.0         3.0        0.0        1.0        1.0   \n",
       "2      0.0  2.0        2.0         3.0        0.0        1.0        1.0   \n",
       "3      0.0  4.0        0.0         2.0        0.0        1.0        1.0   \n",
       "4      0.0  2.0        2.0         0.0        0.0        1.0        1.0   \n",
       "..     ...  ...        ...         ...        ...        ...        ...   \n",
       "268    1.0  1.0        2.0         5.0        0.0        1.0        1.0   \n",
       "269    1.0  1.0        2.0         3.0        0.0        1.0        2.0   \n",
       "270    1.0  4.0        0.0         3.0        0.0        1.0        0.0   \n",
       "271    1.0  2.0        0.0         5.0        4.0        1.0        2.0   \n",
       "272    1.0  3.0        0.0         5.0        4.0        1.0        2.0   \n",
       "\n",
       "     Breast  Breast-quad  Irradiat  \n",
       "0       0.0          2.0       0.0  \n",
       "1       1.0          5.0       0.0  \n",
       "2       0.0          2.0       0.0  \n",
       "3       1.0          3.0       0.0  \n",
       "4       1.0          4.0       0.0  \n",
       "..      ...          ...       ...  \n",
       "268     0.0          3.0       0.0  \n",
       "269     0.0          3.0       1.0  \n",
       "270     1.0          3.0       0.0  \n",
       "271     0.0          2.0       0.0  \n",
       "272     0.0          2.0       0.0  \n",
       "\n",
       "[273 rows x 10 columns]"
      ]
     },
     "execution_count": 273,
     "metadata": {},
     "output_type": "execute_result"
    }
   ],
   "source": [
    "columns = ['Class', 'Age', 'Menopause', 'Tumor-size', 'Inv-nodes', 'Node-caps', 'Deg-malig', 'Breast', 'Breast-quad', 'Irradiat']\n",
    "\n",
    "train2 = pd.DataFrame(train2, columns = columns)\n",
    "train2"
   ]
  },
  {
   "cell_type": "markdown",
   "id": "589b2a17",
   "metadata": {},
   "source": [
    "# 2. Exploratory Data Analysis"
   ]
  },
  {
   "cell_type": "markdown",
   "id": "6b4ab5b5",
   "metadata": {},
   "source": [
    "# 2.1 Checking Missing Values"
   ]
  },
  {
   "cell_type": "code",
   "execution_count": 283,
   "id": "3ae479ab",
   "metadata": {},
   "outputs": [
    {
     "name": "stdout",
     "output_type": "stream",
     "text": [
      "<class 'pandas.core.frame.DataFrame'>\n",
      "RangeIndex: 273 entries, 0 to 272\n",
      "Data columns (total 10 columns):\n",
      " #   Column       Non-Null Count  Dtype \n",
      "---  ------       --------------  ----- \n",
      " 0   Class        273 non-null    object\n",
      " 1   Age          273 non-null    object\n",
      " 2   Menopause    273 non-null    object\n",
      " 3   Tumor-size   273 non-null    object\n",
      " 4   Inv-nodes    273 non-null    object\n",
      " 5   Node-caps    273 non-null    object\n",
      " 6   Deg-malig    273 non-null    int64 \n",
      " 7   Breast       273 non-null    object\n",
      " 8   Breast-quad  273 non-null    object\n",
      " 9   Irradiat     273 non-null    object\n",
      "dtypes: int64(1), object(9)\n",
      "memory usage: 21.5+ KB\n"
     ]
    }
   ],
   "source": [
    "train.info()"
   ]
  },
  {
   "cell_type": "markdown",
   "id": "61292fba",
   "metadata": {},
   "source": [
    "No Null values in training data"
   ]
  },
  {
   "cell_type": "code",
   "execution_count": 253,
   "id": "fd478346",
   "metadata": {},
   "outputs": [
    {
     "name": "stdout",
     "output_type": "stream",
     "text": [
      "<class 'pandas.core.frame.DataFrame'>\n",
      "RangeIndex: 10 entries, 0 to 9\n",
      "Data columns (total 10 columns):\n",
      " #   Column       Non-Null Count  Dtype  \n",
      "---  ------       --------------  -----  \n",
      " 0   Class        10 non-null     object \n",
      " 1   Age          10 non-null     object \n",
      " 2   Menopause    10 non-null     object \n",
      " 3   Tumor-size   10 non-null     object \n",
      " 4   Inv-nodes    8 non-null      object \n",
      " 5   Node-caps    10 non-null     object \n",
      " 6   Deg-malig    10 non-null     int64  \n",
      " 7   Breast       10 non-null     object \n",
      " 8   Breast-quad  10 non-null     object \n",
      " 9   Irradiat     0 non-null      float64\n",
      "dtypes: float64(1), int64(1), object(8)\n",
      "memory usage: 928.0+ bytes\n"
     ]
    }
   ],
   "source": [
    "test.info()"
   ]
  },
  {
   "cell_type": "code",
   "execution_count": 254,
   "id": "d40a171d",
   "metadata": {},
   "outputs": [],
   "source": [
    "def plot_missing_data(dataset, title):\n",
    "    fig, ax = plt.subplots(figsize=(5,5))\n",
    "    plt.title(title)  \n",
    "    sns.heatmap(dataset.isnull(), cbar=False)"
   ]
  },
  {
   "cell_type": "code",
   "execution_count": 259,
   "id": "96370058",
   "metadata": {},
   "outputs": [
    {
     "data": {
      "image/png": "[encoded data removed]",
      "text/plain": [
       "<Figure size 360x360 with 1 Axes>"
      ]
     },
     "metadata": {
      "needs_background": "light"
     },
     "output_type": "display_data"
    }
   ],
   "source": [
    "plot_missing_data(test, \"Test Dataset\")"
   ]
  },
  {
   "cell_type": "markdown",
   "id": "4ebd802b",
   "metadata": {},
   "source": [
    "Other than irradiat column, two null values in the test data, both of them are in Inv-nodes one each in second and eighth rows\n"
   ]
  },
  {
   "cell_type": "code",
   "execution_count": 260,
   "id": "aea6e08d",
   "metadata": {},
   "outputs": [
    {
     "name": "stdout",
     "output_type": "stream",
     "text": [
      "Missing values in test set:\n"
     ]
    },
    {
     "data": {
      "text/html": [
       "<div>\n",
       "<style scoped>\n",
       "    .dataframe tbody tr th:only-of-type {\n",
       "        vertical-align: middle;\n",
       "    }\n",
       "\n",
       "    .dataframe tbody tr th {\n",
       "        vertical-align: top;\n",
       "    }\n",
       "\n",
       "    .dataframe thead th {\n",
       "        text-align: right;\n",
       "    }\n",
       "</style>\n",
       "<table border=\"1\" class=\"dataframe\">\n",
       "  <thead>\n",
       "    <tr style=\"text-align: right;\">\n",
       "      <th></th>\n",
       "      <th>Count</th>\n",
       "      <th>Percentage</th>\n",
       "    </tr>\n",
       "  </thead>\n",
       "  <tbody>\n",
       "    <tr>\n",
       "      <th>Irradiat</th>\n",
       "      <td>10</td>\n",
       "      <td>100.0</td>\n",
       "    </tr>\n",
       "    <tr>\n",
       "      <th>Inv-nodes</th>\n",
       "      <td>2</td>\n",
       "      <td>20.0</td>\n",
       "    </tr>\n",
       "    <tr>\n",
       "      <th>Class</th>\n",
       "      <td>0</td>\n",
       "      <td>0.0</td>\n",
       "    </tr>\n",
       "    <tr>\n",
       "      <th>Age</th>\n",
       "      <td>0</td>\n",
       "      <td>0.0</td>\n",
       "    </tr>\n",
       "    <tr>\n",
       "      <th>Menopause</th>\n",
       "      <td>0</td>\n",
       "      <td>0.0</td>\n",
       "    </tr>\n",
       "    <tr>\n",
       "      <th>Tumor-size</th>\n",
       "      <td>0</td>\n",
       "      <td>0.0</td>\n",
       "    </tr>\n",
       "    <tr>\n",
       "      <th>Node-caps</th>\n",
       "      <td>0</td>\n",
       "      <td>0.0</td>\n",
       "    </tr>\n",
       "    <tr>\n",
       "      <th>Deg-malig</th>\n",
       "      <td>0</td>\n",
       "      <td>0.0</td>\n",
       "    </tr>\n",
       "    <tr>\n",
       "      <th>Breast</th>\n",
       "      <td>0</td>\n",
       "      <td>0.0</td>\n",
       "    </tr>\n",
       "    <tr>\n",
       "      <th>Breast-quad</th>\n",
       "      <td>0</td>\n",
       "      <td>0.0</td>\n",
       "    </tr>\n",
       "  </tbody>\n",
       "</table>\n",
       "</div>"
      ],
      "text/plain": [
       "             Count  Percentage\n",
       "Irradiat        10       100.0\n",
       "Inv-nodes        2        20.0\n",
       "Class            0         0.0\n",
       "Age              0         0.0\n",
       "Menopause        0         0.0\n",
       "Tumor-size       0         0.0\n",
       "Node-caps        0         0.0\n",
       "Deg-malig        0         0.0\n",
       "Breast           0         0.0\n",
       "Breast-quad      0         0.0"
      ]
     },
     "execution_count": 260,
     "metadata": {},
     "output_type": "execute_result"
    }
   ],
   "source": [
    "# compute percentage of missing values\n",
    "\n",
    "# compute number of missing records\n",
    "missing_total = test.isnull().sum().sort_values(ascending=False)\n",
    "\n",
    "# convert to percentages\n",
    "missing_percentage = missing_total/test.shape[0]*100\n",
    "\n",
    "# display missing record %\n",
    "print('Missing values in test set:')\n",
    "pd.concat([missing_total,missing_percentage],keys=['Count','Percentage'],axis=1)"
   ]
  },
  {
   "cell_type": "markdown",
   "id": "a22d381d",
   "metadata": {},
   "source": [
    "# 2.2 EDA"
   ]
  },
  {
   "cell_type": "code",
   "execution_count": 263,
   "id": "c108f311",
   "metadata": {},
   "outputs": [],
   "source": [
    "def bar_chart(dataset, feature, stacked = True):\n",
    "    taken = dataset[dataset['Irradiat']=='yes'][feature].value_counts()\n",
    "    not_taken = dataset[dataset['Irradiat']=='no'][feature].value_counts()\n",
    "    df_survived_dead = pd.DataFrame([taken,not_taken])\n",
    "    df_survived_dead.index = ['taken radiation','not taken radiation']\n",
    "    \n",
    "    ax = df_survived_dead.plot(kind='bar',stacked=False, figsize=(15,5))\n",
    "    #y_offset = 15\n",
    "    # For each patch (basically each rectangle within the bar), add a label.\n",
    "    for bar in ax.patches:\n",
    "      ax.text(\n",
    "          # Put the text in the middle of each bar. get_x returns the start\n",
    "          # so we add half the width to get to the middle.\n",
    "          bar.get_x() + bar.get_width() / 2,\n",
    "          # Vertically, add the height of the bar to the start of the bar,\n",
    "          # along with the offset.\n",
    "          bar.get_height() + bar.get_y(), \n",
    "          # This is actual value we'll show.\n",
    "          round(bar.get_height()),\n",
    "          # Center the labels and style them a bit.\n",
    "          ha='center',\n",
    "          color='k',\n",
    "          weight='bold',\n",
    "          size=12\n",
    "      )"
   ]
  },
  {
   "cell_type": "code",
   "execution_count": 265,
   "id": "6238d9fa",
   "metadata": {},
   "outputs": [
    {
     "name": "stdout",
     "output_type": "stream",
     "text": [
      "no     213\n",
      "yes     60\n",
      "Name: Irradiat, dtype: int64\n",
      "no     0.78022\n",
      "yes    0.21978\n",
      "Name: Irradiat, dtype: float64\n"
     ]
    },
    {
     "data": {
      "image/png": "[encoded data removed]",
      "text/plain": [
       "<Figure size 1080x360 with 1 Axes>"
      ]
     },
     "metadata": {
      "needs_background": "light"
     },
     "output_type": "display_data"
    }
   ],
   "source": [
    "print(train['Irradiat'].value_counts())\n",
    "print(train['Irradiat'].value_counts(normalize=True))\n",
    "\n",
    "\n",
    "bar_chart(train, \"Irradiat\")"
   ]
  },
  {
   "cell_type": "markdown",
   "id": "27cb91f0",
   "metadata": {},
   "source": [
    "it has been observed that 78%, 213 samples haven't taken radiation. 21.9%, 60 samples have taken radiation.\n",
    "though the data is skewed but not severly imbalanced"
   ]
  },
  {
   "cell_type": "code",
   "execution_count": 305,
   "id": "7d9d3bc6",
   "metadata": {},
   "outputs": [
    {
     "name": "stdout",
     "output_type": "stream",
     "text": [
      "                      Class\n",
      "no-recurrence-events    189\n",
      "recurrence-events        84\n",
      "       Irradiat      \n",
      "           mean count\n",
      "Class                \n",
      "0.0    0.153439   189\n",
      "1.0    0.369048    84\n"
     ]
    },
    {
     "data": {
      "image/png": "[encoded data removed]",
      "text/plain": [
       "<Figure size 1080x360 with 1 Axes>"
      ]
     },
     "metadata": {
      "needs_background": "light"
     },
     "output_type": "display_data"
    }
   ],
   "source": [
    "print(train['Class'].value_counts().to_frame())\n",
    "print(train2[['Class','Irradiat']].groupby(['Class'],as_index=False).agg(['mean','count']))\n",
    "\n",
    "bar_chart(train, \"Class\")"
   ]
  },
  {
   "cell_type": "markdown",
   "id": "9ecf3cca",
   "metadata": {},
   "source": [
    "it has been observed that 15.34%, 29 samples of no-recurrence events class have  taken radiation. \n",
    "36.9%, 29 samples of recurrent events class have taken radiation."
   ]
  },
  {
   "cell_type": "code",
   "execution_count": 310,
   "id": "9a824d9c",
   "metadata": {},
   "outputs": [
    {
     "name": "stdout",
     "output_type": "stream",
     "text": [
      "         Menopause\n",
      "premeno        142\n",
      "ge40           125\n",
      "lt40             6\n",
      "           Irradiat      \n",
      "               mean count\n",
      "Menopause                \n",
      "0.0        0.208000   125\n",
      "1.0        0.000000     6\n",
      "2.0        0.239437   142\n"
     ]
    },
    {
     "data": {
      "image/png": "[encoded data removed]",
      "text/plain": [
       "<Figure size 1080x360 with 1 Axes>"
      ]
     },
     "metadata": {
      "needs_background": "light"
     },
     "output_type": "display_data"
    }
   ],
   "source": [
    "print(train['Menopause'].value_counts().to_frame())\n",
    "print(train2[['Menopause','Irradiat']].groupby(['Menopause'],as_index=False).agg(['mean','count']))\n",
    "\n",
    "bar_chart(train, \"Menopause\")\n"
   ]
  },
  {
   "cell_type": "markdown",
   "id": "c3b3448a",
   "metadata": {},
   "source": [
    "it has been observed that premeno category has relatively high proportion of samples with radiation, 23.94%."
   ]
  },
  {
   "cell_type": "code",
   "execution_count": 329,
   "id": "ebbde4d8",
   "metadata": {},
   "outputs": [
    {
     "name": "stdout",
     "output_type": "stream",
     "text": [
      "     Node-caps\n",
      "no         217\n",
      "yes         51\n",
      "?            5\n",
      "           Irradiat      \n",
      "               mean count\n",
      "Node-caps                \n",
      "0.0        0.800000     5\n",
      "1.0        0.147465   217\n",
      "2.0        0.470588    51\n"
     ]
    },
    {
     "data": {
      "image/png": "[encoded data removed]",
      "text/plain": [
       "<Figure size 1080x360 with 1 Axes>"
      ]
     },
     "metadata": {
      "needs_background": "light"
     },
     "output_type": "display_data"
    }
   ],
   "source": [
    "print(train['Node-caps'].value_counts().to_frame())\n",
    "print(train2[['Node-caps','Irradiat']].groupby(['Node-caps'],as_index=False).agg(['mean','count']))\n",
    "\n",
    "bar_chart(train, \"Node-caps\")"
   ]
  },
  {
   "cell_type": "markdown",
   "id": "95570eb8",
   "metadata": {},
   "source": [
    "there aren't any null values however in 5 rows there exists a special character - '?'\n",
    "presence of Node caps results in 47%, 24 of radiation samples"
   ]
  },
  {
   "cell_type": "code",
   "execution_count": 326,
   "id": "7f12f309",
   "metadata": {},
   "outputs": [],
   "source": [
    "def plot_swarm_Irradiat(dataset, feature1, feature2, title, fize = (155)):\n",
    "    fig, ax = plt.subplots(figsize=(20,8))\n",
    "    # Turns off grid on the left Axis.\n",
    "    ax.grid(True)\n",
    "    plt.xticks(list(range(0,100,2)))\n",
    "    sns.swarmplot(y=feature1, x=feature2, hue='Irradiat',data=train).set_title(title)"
   ]
  },
  {
   "cell_type": "code",
   "execution_count": 330,
   "id": "609c2e82",
   "metadata": {},
   "outputs": [
    {
     "name": "stdout",
     "output_type": "stream",
     "text": [
      "              Class        Irradiat      \n",
      "               mean count      mean count\n",
      "Node-caps                                \n",
      "0.0        0.400000     5  0.800000     5\n",
      "1.0        0.235023   217  0.147465   217\n",
      "2.0        0.607843    51  0.470588    51\n"
     ]
    },
    {
     "name": "stderr",
     "output_type": "stream",
     "text": [
      "/Users/ramakrishnareddych/opt/anaconda3/lib/python3.8/site-packages/seaborn/categorical.py:1296: UserWarning: 42.9% of the points cannot be placed; you may want to decrease the size of the markers or use stripplot.\n",
      "  warnings.warn(msg, UserWarning)\n"
     ]
    },
    {
     "data": {
      "image/png": "[encoded data removed]",
      "text/plain": [
       "<Figure size 1440x576 with 1 Axes>"
      ]
     },
     "metadata": {
      "needs_background": "light"
     },
     "output_type": "display_data"
    }
   ],
   "source": [
    "print(train2[['Node-caps','Class', 'Irradiat']].groupby(['Node-caps'],as_index=False).agg(['mean','count']))\n",
    "\n",
    "plot_swarm_Irradiat(train, 'Node-caps', \"Class\", \" Irradiat for Node-caps and Class\")\n"
   ]
  },
  {
   "cell_type": "markdown",
   "id": "3e38e633",
   "metadata": {},
   "source": [
    "it has been observed that 60.7% of the samples are having are having node caps and recurrent class"
   ]
  },
  {
   "cell_type": "code",
   "execution_count": 314,
   "id": "44043090",
   "metadata": {},
   "outputs": [
    {
     "name": "stdout",
     "output_type": "stream",
     "text": [
      "   Deg-malig\n",
      "2        123\n",
      "3         81\n",
      "1         69\n",
      "           Irradiat      \n",
      "               mean count\n",
      "Deg-malig                \n",
      "0.0        0.086957    69\n",
      "1.0        0.227642   123\n",
      "2.0        0.320988    81\n"
     ]
    },
    {
     "data": {
      "image/png": "[encoded data removed]",
      "text/plain": [
       "<Figure size 1080x360 with 1 Axes>"
      ]
     },
     "metadata": {
      "needs_background": "light"
     },
     "output_type": "display_data"
    }
   ],
   "source": [
    "print(train['Deg-malig'].value_counts().to_frame())\n",
    "print(train2[['Deg-malig','Irradiat']].groupby(['Deg-malig'],as_index=False).agg(['mean','count']))\n",
    "\n",
    "bar_chart(train, \"Deg-malig\")"
   ]
  },
  {
   "cell_type": "markdown",
   "id": "27c46b90",
   "metadata": {},
   "source": [
    "it has been observed that samples with radiation taken are directly proportional to degree of malignanacy"
   ]
  },
  {
   "cell_type": "code",
   "execution_count": 332,
   "id": "a8320340",
   "metadata": {},
   "outputs": [
    {
     "name": "stdout",
     "output_type": "stream",
     "text": [
      "          Node-caps        Irradiat      \n",
      "               mean count      mean count\n",
      "Deg-malig                                \n",
      "0.0        0.956522    69  0.086957    69\n",
      "1.0        1.170732   123  0.227642   123\n",
      "2.0        1.345679    81  0.320988    81\n"
     ]
    },
    {
     "name": "stderr",
     "output_type": "stream",
     "text": [
      "/Users/ramakrishnareddych/opt/anaconda3/lib/python3.8/site-packages/seaborn/categorical.py:1296: UserWarning: 68.2% of the points cannot be placed; you may want to decrease the size of the markers or use stripplot.\n",
      "  warnings.warn(msg, UserWarning)\n",
      "/Users/ramakrishnareddych/opt/anaconda3/lib/python3.8/site-packages/seaborn/categorical.py:1296: UserWarning: 11.8% of the points cannot be placed; you may want to decrease the size of the markers or use stripplot.\n",
      "  warnings.warn(msg, UserWarning)\n"
     ]
    },
    {
     "data": {
      "image/png": "[encoded data removed]",
      "text/plain": [
       "<Figure size 1440x576 with 1 Axes>"
      ]
     },
     "metadata": {
      "needs_background": "light"
     },
     "output_type": "display_data"
    }
   ],
   "source": [
    "\n",
    "plot_swarm_Irradiat(train, 'Node-caps', \"Deg-malig\", \" Irradiat for Node-caps and Deg-malig\")"
   ]
  },
  {
   "cell_type": "markdown",
   "id": "c6aa3798",
   "metadata": {},
   "source": [
    "it has been observed that with the presence of Node-caps and degree of malignancy greather than or equal to 2 increases chances to take radiation. \n",
    "even without the presence of Node-caps there are relatively higher chances for radiation at degree of malignency = 3"
   ]
  },
  {
   "cell_type": "code",
   "execution_count": 317,
   "id": "4074ac18",
   "metadata": {},
   "outputs": [
    {
     "name": "stdout",
     "output_type": "stream",
     "text": [
      "       Breast\n",
      "left      146\n",
      "right     127\n",
      "        Irradiat      \n",
      "            mean count\n",
      "Breast                \n",
      "0.0     0.226027   146\n",
      "1.0     0.212598   127\n"
     ]
    },
    {
     "data": {
      "image/png": "[encoded data removed]",
      "text/plain": [
       "<Figure size 1080x360 with 1 Axes>"
      ]
     },
     "metadata": {
      "needs_background": "light"
     },
     "output_type": "display_data"
    }
   ],
   "source": [
    "print(train['Breast'].value_counts().to_frame())\n",
    "print(train2[['Breast','Irradiat']].groupby(['Breast'],as_index=False).agg(['mean','count']))\n",
    "\n",
    "bar_chart(train, \"Breast\")"
   ]
  },
  {
   "cell_type": "markdown",
   "id": "9929c128",
   "metadata": {},
   "source": [
    "the chances to under go radiation are similar for the breast side i.e either left or right in which the cancer grows. however their relative percentages of taking radiation are 22.6% and 21.2 for left and right sides respectively."
   ]
  },
  {
   "cell_type": "code",
   "execution_count": 318,
   "id": "ef4bb14b",
   "metadata": {},
   "outputs": [
    {
     "name": "stdout",
     "output_type": "stream",
     "text": [
      "           Breast-quad\n",
      "left_low           109\n",
      "left_up             89\n",
      "right_up            30\n",
      "right_low           24\n",
      "central             20\n",
      "?                    1\n",
      "             Irradiat      \n",
      "                 mean count\n",
      "Breast-quad                \n",
      "0.0          0.000000     1\n",
      "1.0          0.100000    20\n",
      "2.0          0.247706   109\n",
      "3.0          0.224719    89\n",
      "4.0          0.291667    24\n",
      "5.0          0.133333    30\n"
     ]
    },
    {
     "data": {
      "image/png": "[encoded data removed]",
      "text/plain": [
       "<Figure size 1080x360 with 1 Axes>"
      ]
     },
     "metadata": {
      "needs_background": "light"
     },
     "output_type": "display_data"
    }
   ],
   "source": [
    "print(train['Breast-quad'].value_counts().to_frame())\n",
    "print(train2[['Breast-quad','Irradiat']].groupby(['Breast-quad'],as_index=False).agg(['mean','count']))\n",
    "\n",
    "bar_chart(train, \"Breast-quad\")"
   ]
  },
  {
   "cell_type": "markdown",
   "id": "db578993",
   "metadata": {},
   "source": [
    "it has been observed that cancer generated on lower side of lungs are having higher proportions of radiation taken.\n",
    "right low - 29.16% and left low 24.77% of radiation samples"
   ]
  },
  {
   "cell_type": "code",
   "execution_count": 319,
   "id": "348fd3f0",
   "metadata": {},
   "outputs": [
    {
     "name": "stderr",
     "output_type": "stream",
     "text": [
      "/Users/ramakrishnareddych/opt/anaconda3/lib/python3.8/site-packages/seaborn/categorical.py:1296: UserWarning: 50.5% of the points cannot be placed; you may want to decrease the size of the markers or use stripplot.\n",
      "  warnings.warn(msg, UserWarning)\n",
      "/Users/ramakrishnareddych/opt/anaconda3/lib/python3.8/site-packages/seaborn/categorical.py:1296: UserWarning: 51.7% of the points cannot be placed; you may want to decrease the size of the markers or use stripplot.\n",
      "  warnings.warn(msg, UserWarning)\n"
     ]
    },
    {
     "data": {
      "image/png": "[encoded data removed]",
      "text/plain": [
       "<Figure size 1440x576 with 1 Axes>"
      ]
     },
     "metadata": {
      "needs_background": "light"
     },
     "output_type": "display_data"
    }
   ],
   "source": [
    "\n",
    "plot_swarm_Irradiat(train, 'Node-caps', \"Breast-quad\", \" Irradiat for Node-caps and Breast-quad\")"
   ]
  },
  {
   "cell_type": "markdown",
   "id": "07f52c47",
   "metadata": {},
   "source": [
    "its inconclusive from the above graph why the cancer on the lower end of the lung results in more radiation samples"
   ]
  },
  {
   "cell_type": "code",
   "execution_count": 321,
   "id": "a64408d9",
   "metadata": {},
   "outputs": [
    {
     "name": "stderr",
     "output_type": "stream",
     "text": [
      "/Users/ramakrishnareddych/opt/anaconda3/lib/python3.8/site-packages/seaborn/categorical.py:1296: UserWarning: 21.1% of the points cannot be placed; you may want to decrease the size of the markers or use stripplot.\n",
      "  warnings.warn(msg, UserWarning)\n",
      "/Users/ramakrishnareddych/opt/anaconda3/lib/python3.8/site-packages/seaborn/categorical.py:1296: UserWarning: 12.4% of the points cannot be placed; you may want to decrease the size of the markers or use stripplot.\n",
      "  warnings.warn(msg, UserWarning)\n"
     ]
    },
    {
     "data": {
      "image/png": "[encoded data removed]",
      "text/plain": [
       "<Figure size 1440x576 with 1 Axes>"
      ]
     },
     "metadata": {
      "needs_background": "light"
     },
     "output_type": "display_data"
    }
   ],
   "source": [
    "plot_swarm_Irradiat(train, 'Deg-malig', \"Breast-quad\", \" Irradiat for Deg-malig and Breast-quad\")"
   ]
  },
  {
   "cell_type": "markdown",
   "id": "c9bb781d",
   "metadata": {},
   "source": [
    "it has been observed that higher dergree of malignancy found in the lower part of lungs hence cancer generated on lower side of lungs are having higher proportions of radiation taken."
   ]
  },
  {
   "cell_type": "code",
   "execution_count": null,
   "id": "39730c3c",
   "metadata": {},
   "outputs": [],
   "source": [
    "def plot_distribution(dataset, feature, title, bins = 30, hist = True, fsize = (5,5)):\n",
    "    fig, ax = plt.subplots(figsize=fsize)\n",
    "    ax.set_title(title)\n",
    "    sns.distplot(train2[feature], color='g', bins=bins, ax=ax)"
   ]
  },
  {
   "cell_type": "code",
   "execution_count": 308,
   "id": "b8d74918",
   "metadata": {},
   "outputs": [],
   "source": [
    "def plot_kernel_density_estimate(dataset, feature1, title, fsize = (10,5)):\n",
    "    fig, ax = plt.subplots(figsize=fsize)\n",
    "    ax.set_title(title) \n",
    "    sns.kdeplot(dataset[feature1].loc[train2[\"Irradiat\"] == 1],\n",
    "                shade= True, ax=ax, label='taken radiation').set_xlabel(feature1)\n",
    "    sns.kdeplot(dataset[feature1].loc[train2[\"Irradiat\"] == 0],\n",
    "                shade=True, ax=ax, label=\"not taken radiation\").set_xlabel(feature1)\n",
    "    plt.legend()"
   ]
  },
  {
   "cell_type": "code",
   "execution_count": 309,
   "id": "649076bf",
   "metadata": {},
   "outputs": [
    {
     "name": "stdout",
     "output_type": "stream",
     "text": [
      "       Age\n",
      "50-59   92\n",
      "40-49   86\n",
      "60-69   55\n",
      "30-39   33\n",
      "70-79    6\n",
      "20-29    1\n",
      "     Irradiat      \n",
      "         mean count\n",
      "Age                \n",
      "0.0  0.000000     1\n",
      "1.0  0.242424    33\n",
      "2.0  0.267442    86\n",
      "3.0  0.152174    92\n",
      "4.0  0.254545    55\n",
      "5.0  0.166667     6\n"
     ]
    },
    {
     "data": {
      "image/png": "[encoded data removed]",
      "text/plain": [
       "<Figure size 1080x360 with 1 Axes>"
      ]
     },
     "metadata": {
      "needs_background": "light"
     },
     "output_type": "display_data"
    },
    {
     "data": {
      "image/png": "[encoded data removed]",
      "text/plain": [
       "<Figure size 720x360 with 1 Axes>"
      ]
     },
     "metadata": {
      "needs_background": "light"
     },
     "output_type": "display_data"
    }
   ],
   "source": [
    "print(train['Age'].value_counts().to_frame())\n",
    "print(train2[['Age','Irradiat']].groupby(['Age'],as_index=False).agg(['mean','count']))\n",
    "\n",
    "bar_chart(train, \"Age\")\n",
    "plot_kernel_density_estimate(train2, \"Age\", \"Age Distribution and radiation taken vs radiation not taken\")"
   ]
  },
  {
   "cell_type": "markdown",
   "id": "5b0f2082",
   "metadata": {},
   "source": [
    "it has been observed that people from age groups 30-39 and 40-49 have high proportion of sample with radiation\n",
    "age group - 50-59 is having low proprtion of samples with radiation"
   ]
  },
  {
   "cell_type": "code",
   "execution_count": 335,
   "id": "3f66861a",
   "metadata": {},
   "outputs": [
    {
     "name": "stderr",
     "output_type": "stream",
     "text": [
      "/Users/ramakrishnareddych/opt/anaconda3/lib/python3.8/site-packages/seaborn/categorical.py:1296: UserWarning: 12.0% of the points cannot be placed; you may want to decrease the size of the markers or use stripplot.\n",
      "  warnings.warn(msg, UserWarning)\n"
     ]
    },
    {
     "data": {
      "image/png": "[encoded data removed]",
      "text/plain": [
       "<Figure size 1440x576 with 1 Axes>"
      ]
     },
     "metadata": {
      "needs_background": "light"
     },
     "output_type": "display_data"
    }
   ],
   "source": [
    "plot_swarm_Irradiat(train, 'Age', \"Node-caps\", \" Irradiat for Age and Node-caps\")"
   ]
  },
  {
   "cell_type": "code",
   "execution_count": 324,
   "id": "d90495d5",
   "metadata": {},
   "outputs": [
    {
     "name": "stderr",
     "output_type": "stream",
     "text": [
      "/Users/ramakrishnareddych/opt/anaconda3/lib/python3.8/site-packages/seaborn/categorical.py:1296: UserWarning: 12.1% of the points cannot be placed; you may want to decrease the size of the markers or use stripplot.\n",
      "  warnings.warn(msg, UserWarning)\n",
      "/Users/ramakrishnareddych/opt/anaconda3/lib/python3.8/site-packages/seaborn/categorical.py:1296: UserWarning: 61.6% of the points cannot be placed; you may want to decrease the size of the markers or use stripplot.\n",
      "  warnings.warn(msg, UserWarning)\n",
      "/Users/ramakrishnareddych/opt/anaconda3/lib/python3.8/site-packages/seaborn/categorical.py:1296: UserWarning: 40.0% of the points cannot be placed; you may want to decrease the size of the markers or use stripplot.\n",
      "  warnings.warn(msg, UserWarning)\n",
      "/Users/ramakrishnareddych/opt/anaconda3/lib/python3.8/site-packages/seaborn/categorical.py:1296: UserWarning: 64.1% of the points cannot be placed; you may want to decrease the size of the markers or use stripplot.\n",
      "  warnings.warn(msg, UserWarning)\n"
     ]
    },
    {
     "data": {
      "image/png": "[encoded data removed]",
      "text/plain": [
       "<Figure size 1440x576 with 1 Axes>"
      ]
     },
     "metadata": {
      "needs_background": "light"
     },
     "output_type": "display_data"
    }
   ],
   "source": [
    "plot_swarm_Irradiat(train, 'Age', \"Deg-malig\", \" Irradiat for Age and Deg-malig\")"
   ]
  },
  {
   "cell_type": "code",
   "execution_count": 338,
   "id": "1d3cf6f2",
   "metadata": {},
   "outputs": [
    {
     "name": "stdout",
     "output_type": "stream",
     "text": [
      "       Tumor-size\n",
      "30-34          57\n",
      "25-29          51\n",
      "20-24          48\n",
      "15-19          30\n",
      "10-14          28\n",
      "40-44          19\n",
      "35-39          17\n",
      "50-54           8\n",
      "0-4             8\n",
      "5-9             4\n",
      "45-49           3\n",
      "            Irradiat      \n",
      "                mean count\n",
      "Tumor-size                \n",
      "0.0         0.000000     8\n",
      "1.0         0.107143    28\n",
      "2.0         0.200000    30\n",
      "3.0         0.187500    48\n",
      "4.0         0.294118    51\n",
      "5.0         0.245614    57\n",
      "6.0         0.117647    17\n",
      "7.0         0.263158    19\n",
      "8.0         0.666667     3\n",
      "9.0         0.250000     4\n",
      "10.0        0.375000     8\n"
     ]
    },
    {
     "data": {
      "image/png": "[encoded data removed]",
      "text/plain": [
       "<Figure size 1080x360 with 1 Axes>"
      ]
     },
     "metadata": {
      "needs_background": "light"
     },
     "output_type": "display_data"
    },
    {
     "data": {
      "image/png": "[encoded data removed]",
      "text/plain": [
       "<Figure size 720x360 with 1 Axes>"
      ]
     },
     "metadata": {
      "needs_background": "light"
     },
     "output_type": "display_data"
    }
   ],
   "source": [
    "print(train['Tumor-size'].value_counts().to_frame())\n",
    "print(train2[['Tumor-size','Irradiat']].groupby(['Tumor-size'],as_index=False).agg(['mean','count']))\n",
    "\n",
    "bar_chart(train, \"Tumor-size\")\n",
    "\n",
    "plot_kernel_density_estimate(train2, \"Tumor-size\", \"Tumor-size Distribution and radiation taken vs radiation not taken\")"
   ]
  },
  {
   "cell_type": "markdown",
   "id": "31391033",
   "metadata": {},
   "source": [
    "it has been observed that tumor sizes of 25-29 and above are having high proprtion of radiation taken\n",
    "on the other hand tumor size below 25-29 are having lower proportion of radiation taken"
   ]
  },
  {
   "cell_type": "code",
   "execution_count": 339,
   "id": "b35dfcd2",
   "metadata": {},
   "outputs": [
    {
     "name": "stderr",
     "output_type": "stream",
     "text": [
      "/Users/ramakrishnareddych/opt/anaconda3/lib/python3.8/site-packages/seaborn/categorical.py:1296: UserWarning: 63.2% of the points cannot be placed; you may want to decrease the size of the markers or use stripplot.\n",
      "  warnings.warn(msg, UserWarning)\n",
      "/Users/ramakrishnareddych/opt/anaconda3/lib/python3.8/site-packages/seaborn/categorical.py:1296: UserWarning: 56.2% of the points cannot be placed; you may want to decrease the size of the markers or use stripplot.\n",
      "  warnings.warn(msg, UserWarning)\n",
      "/Users/ramakrishnareddych/opt/anaconda3/lib/python3.8/site-packages/seaborn/categorical.py:1296: UserWarning: 33.3% of the points cannot be placed; you may want to decrease the size of the markers or use stripplot.\n",
      "  warnings.warn(msg, UserWarning)\n",
      "/Users/ramakrishnareddych/opt/anaconda3/lib/python3.8/site-packages/seaborn/categorical.py:1296: UserWarning: 58.8% of the points cannot be placed; you may want to decrease the size of the markers or use stripplot.\n",
      "  warnings.warn(msg, UserWarning)\n",
      "/Users/ramakrishnareddych/opt/anaconda3/lib/python3.8/site-packages/seaborn/categorical.py:1296: UserWarning: 42.9% of the points cannot be placed; you may want to decrease the size of the markers or use stripplot.\n",
      "  warnings.warn(msg, UserWarning)\n",
      "/Users/ramakrishnareddych/opt/anaconda3/lib/python3.8/site-packages/seaborn/categorical.py:1296: UserWarning: 10.5% of the points cannot be placed; you may want to decrease the size of the markers or use stripplot.\n",
      "  warnings.warn(msg, UserWarning)\n",
      "/Users/ramakrishnareddych/opt/anaconda3/lib/python3.8/site-packages/seaborn/categorical.py:1296: UserWarning: 17.6% of the points cannot be placed; you may want to decrease the size of the markers or use stripplot.\n",
      "  warnings.warn(msg, UserWarning)\n"
     ]
    },
    {
     "data": {
      "image/png": "[encoded data removed]",
      "text/plain": [
       "<Figure size 1440x576 with 1 Axes>"
      ]
     },
     "metadata": {
      "needs_background": "light"
     },
     "output_type": "display_data"
    }
   ],
   "source": [
    "plot_swarm_Irradiat(train, 'Tumor-size', \"Deg-malig\", \" Irradiat for Tumor-size and Deg-malig\")"
   ]
  },
  {
   "cell_type": "markdown",
   "id": "41bcfb44",
   "metadata": {},
   "source": [
    "it has been observed that tumor size greater than 25-29 are having higher degree of malignancy greater than equal to 2"
   ]
  },
  {
   "cell_type": "code",
   "execution_count": 341,
   "id": "e097f0e5",
   "metadata": {},
   "outputs": [
    {
     "name": "stdout",
     "output_type": "stream",
     "text": [
      "       Inv-nodes\n",
      "0-2          209\n",
      "3-5           32\n",
      "6-8           15\n",
      "9-11           7\n",
      "15-17          6\n",
      "12-14          3\n",
      "24-26          1\n",
      "           Irradiat      \n",
      "               mean count\n",
      "Inv-nodes                \n",
      "0.0        0.138756   209\n",
      "1.0        1.000000     3\n",
      "2.0        0.166667     6\n",
      "3.0        1.000000     1\n",
      "4.0        0.437500    32\n",
      "5.0        0.533333    15\n",
      "6.0        0.571429     7\n"
     ]
    },
    {
     "data": {
      "image/png": "[encoded data removed]",
      "text/plain": [
       "<Figure size 1080x360 with 1 Axes>"
      ]
     },
     "metadata": {
      "needs_background": "light"
     },
     "output_type": "display_data"
    },
    {
     "data": {
      "image/png": "[encoded data removed]",
      "text/plain": [
       "<Figure size 720x360 with 1 Axes>"
      ]
     },
     "metadata": {
      "needs_background": "light"
     },
     "output_type": "display_data"
    }
   ],
   "source": [
    "print(train['Inv-nodes'].value_counts().to_frame())\n",
    "print(train2[['Inv-nodes','Irradiat']].groupby(['Inv-nodes'],as_index=False).agg(['mean','count']))\n",
    "\n",
    "bar_chart(train, \"Inv-nodes\")\n",
    "\n",
    "\n",
    "plot_kernel_density_estimate(train2, \"Inv-nodes\", \"Inv-nodes Distribution and radiation taken vs radiation not taken\")"
   ]
  },
  {
   "cell_type": "markdown",
   "id": "bee2ce46",
   "metadata": {},
   "source": [
    "it has been observed that greater the presence of inv nodes higher the proprtion of radiation taken"
   ]
  },
  {
   "cell_type": "markdown",
   "id": "b3eac8c3",
   "metadata": {},
   "source": [
    "# 3. Test train split and Encoding Categorial variables"
   ]
  },
  {
   "cell_type": "code",
   "execution_count": 182,
   "id": "ea75bc79",
   "metadata": {},
   "outputs": [],
   "source": [
    "# split into input and output variables\n",
    "X = train.iloc[:, :-1]\n",
    "y = train.iloc[:,-1]\n",
    "X_test = test.iloc[:, :-1]"
   ]
  },
  {
   "cell_type": "code",
   "execution_count": 7,
   "id": "b412e2cf",
   "metadata": {},
   "outputs": [],
   "source": [
    "# format all fields as string\n",
    "X = X.astype(str)"
   ]
  },
  {
   "cell_type": "code",
   "execution_count": 18,
   "id": "d57b687b",
   "metadata": {},
   "outputs": [
    {
     "data": {
      "text/plain": [
       "array([[0., 1., 2., ..., 2., 0., 2.],\n",
       "       [0., 2., 2., ..., 1., 1., 5.],\n",
       "       [0., 2., 2., ..., 1., 0., 2.],\n",
       "       ...,\n",
       "       [1., 4., 0., ..., 0., 1., 3.],\n",
       "       [1., 2., 0., ..., 2., 0., 2.],\n",
       "       [1., 3., 0., ..., 2., 0., 2.]])"
      ]
     },
     "execution_count": 18,
     "metadata": {},
     "output_type": "execute_result"
    }
   ],
   "source": [
    "# encoding features\n",
    "\n",
    "oe = OrdinalEncoder()\n",
    "oe.fit(X)\n",
    "X_enc = oe.transform(X)\n",
    "X_enc"
   ]
  },
  {
   "cell_type": "code",
   "execution_count": 125,
   "id": "f6d9957b",
   "metadata": {},
   "outputs": [
    {
     "data": {
      "text/plain": [
       "array([0, 0, 0, 0, 0, 0, 0, 0, 0, 0, 0, 0, 0, 0, 0, 0, 0, 0, 0, 0, 0, 0,\n",
       "       0, 0, 0, 0, 0, 0, 0, 0, 0, 0, 0, 0, 0, 0, 0, 0, 0, 0, 0, 0, 0, 0,\n",
       "       0, 0, 0, 0, 0, 0, 0, 0, 0, 0, 0, 0, 0, 0, 0, 0, 0, 0, 0, 0, 0, 0,\n",
       "       0, 0, 0, 0, 0, 0, 0, 0, 0, 0, 0, 0, 0, 0, 0, 0, 0, 0, 0, 0, 0, 0,\n",
       "       0, 0, 0, 0, 0, 0, 0, 0, 0, 0, 0, 0, 0, 0, 0, 0, 0, 0, 0, 0, 0, 0,\n",
       "       0, 0, 0, 0, 0, 0, 0, 0, 0, 0, 0, 0, 0, 0, 0, 0, 0, 1, 1, 0, 0, 0,\n",
       "       0, 1, 0, 1, 1, 1, 0, 0, 0, 0, 0, 1, 0, 1, 0, 0, 0, 0, 1, 0, 1, 1,\n",
       "       0, 0, 1, 0, 1, 1, 0, 0, 0, 1, 1, 0, 0, 1, 1, 1, 1, 1, 1, 1, 0, 1,\n",
       "       0, 0, 1, 1, 0, 0, 1, 0, 0, 1, 1, 0, 0, 0, 0, 0, 0, 0, 0, 0, 0, 0,\n",
       "       0, 0, 0, 0, 0, 0, 0, 0, 0, 0, 0, 0, 1, 0, 1, 1, 0, 1, 0, 1, 0, 0,\n",
       "       1, 1, 1, 1, 0, 0, 0, 1, 1, 0, 1, 0, 1, 1, 1, 1, 0, 0, 0, 1, 0, 0,\n",
       "       0, 0, 1, 1, 1, 0, 0, 1, 0, 0, 0, 0, 1, 0, 1, 0, 1, 0, 1, 1, 0, 1,\n",
       "       1, 0, 1, 1, 0, 1, 0, 0, 0])"
      ]
     },
     "execution_count": 125,
     "metadata": {},
     "output_type": "execute_result"
    }
   ],
   "source": [
    "# encoding lables\n",
    "\n",
    "y_enc = LabelEncoder().fit_transform(y)\n",
    "y_enc"
   ]
  },
  {
   "cell_type": "code",
   "execution_count": 44,
   "id": "b4adbe8f",
   "metadata": {},
   "outputs": [],
   "source": [
    "X_enc = X_enc.astype(float)\n"
   ]
  },
  {
   "cell_type": "code",
   "execution_count": 52,
   "id": "a6faca12",
   "metadata": {},
   "outputs": [
    {
     "data": {
      "text/html": [
       "<div>\n",
       "<style scoped>\n",
       "    .dataframe tbody tr th:only-of-type {\n",
       "        vertical-align: middle;\n",
       "    }\n",
       "\n",
       "    .dataframe tbody tr th {\n",
       "        vertical-align: top;\n",
       "    }\n",
       "\n",
       "    .dataframe thead th {\n",
       "        text-align: right;\n",
       "    }\n",
       "</style>\n",
       "<table border=\"1\" class=\"dataframe\">\n",
       "  <thead>\n",
       "    <tr style=\"text-align: right;\">\n",
       "      <th></th>\n",
       "      <th>Class</th>\n",
       "      <th>Age</th>\n",
       "      <th>Menopause</th>\n",
       "      <th>Tumor-size</th>\n",
       "      <th>Inv-nodes</th>\n",
       "      <th>Node-caps</th>\n",
       "      <th>Deg-malig</th>\n",
       "      <th>Breast</th>\n",
       "      <th>Breast-quad</th>\n",
       "    </tr>\n",
       "  </thead>\n",
       "  <tbody>\n",
       "    <tr>\n",
       "      <th>0</th>\n",
       "      <td>0.0</td>\n",
       "      <td>1.0</td>\n",
       "      <td>2.0</td>\n",
       "      <td>5.0</td>\n",
       "      <td>0.0</td>\n",
       "      <td>1.0</td>\n",
       "      <td>2.0</td>\n",
       "      <td>0.0</td>\n",
       "      <td>2.0</td>\n",
       "    </tr>\n",
       "    <tr>\n",
       "      <th>1</th>\n",
       "      <td>0.0</td>\n",
       "      <td>2.0</td>\n",
       "      <td>2.0</td>\n",
       "      <td>3.0</td>\n",
       "      <td>0.0</td>\n",
       "      <td>1.0</td>\n",
       "      <td>1.0</td>\n",
       "      <td>1.0</td>\n",
       "      <td>5.0</td>\n",
       "    </tr>\n",
       "    <tr>\n",
       "      <th>2</th>\n",
       "      <td>0.0</td>\n",
       "      <td>2.0</td>\n",
       "      <td>2.0</td>\n",
       "      <td>3.0</td>\n",
       "      <td>0.0</td>\n",
       "      <td>1.0</td>\n",
       "      <td>1.0</td>\n",
       "      <td>0.0</td>\n",
       "      <td>2.0</td>\n",
       "    </tr>\n",
       "    <tr>\n",
       "      <th>3</th>\n",
       "      <td>0.0</td>\n",
       "      <td>4.0</td>\n",
       "      <td>0.0</td>\n",
       "      <td>2.0</td>\n",
       "      <td>0.0</td>\n",
       "      <td>1.0</td>\n",
       "      <td>1.0</td>\n",
       "      <td>1.0</td>\n",
       "      <td>3.0</td>\n",
       "    </tr>\n",
       "    <tr>\n",
       "      <th>4</th>\n",
       "      <td>0.0</td>\n",
       "      <td>2.0</td>\n",
       "      <td>2.0</td>\n",
       "      <td>0.0</td>\n",
       "      <td>0.0</td>\n",
       "      <td>1.0</td>\n",
       "      <td>1.0</td>\n",
       "      <td>1.0</td>\n",
       "      <td>4.0</td>\n",
       "    </tr>\n",
       "    <tr>\n",
       "      <th>...</th>\n",
       "      <td>...</td>\n",
       "      <td>...</td>\n",
       "      <td>...</td>\n",
       "      <td>...</td>\n",
       "      <td>...</td>\n",
       "      <td>...</td>\n",
       "      <td>...</td>\n",
       "      <td>...</td>\n",
       "      <td>...</td>\n",
       "    </tr>\n",
       "    <tr>\n",
       "      <th>268</th>\n",
       "      <td>1.0</td>\n",
       "      <td>1.0</td>\n",
       "      <td>2.0</td>\n",
       "      <td>5.0</td>\n",
       "      <td>0.0</td>\n",
       "      <td>1.0</td>\n",
       "      <td>1.0</td>\n",
       "      <td>0.0</td>\n",
       "      <td>3.0</td>\n",
       "    </tr>\n",
       "    <tr>\n",
       "      <th>269</th>\n",
       "      <td>1.0</td>\n",
       "      <td>1.0</td>\n",
       "      <td>2.0</td>\n",
       "      <td>3.0</td>\n",
       "      <td>0.0</td>\n",
       "      <td>1.0</td>\n",
       "      <td>2.0</td>\n",
       "      <td>0.0</td>\n",
       "      <td>3.0</td>\n",
       "    </tr>\n",
       "    <tr>\n",
       "      <th>270</th>\n",
       "      <td>1.0</td>\n",
       "      <td>4.0</td>\n",
       "      <td>0.0</td>\n",
       "      <td>3.0</td>\n",
       "      <td>0.0</td>\n",
       "      <td>1.0</td>\n",
       "      <td>0.0</td>\n",
       "      <td>1.0</td>\n",
       "      <td>3.0</td>\n",
       "    </tr>\n",
       "    <tr>\n",
       "      <th>271</th>\n",
       "      <td>1.0</td>\n",
       "      <td>2.0</td>\n",
       "      <td>0.0</td>\n",
       "      <td>5.0</td>\n",
       "      <td>4.0</td>\n",
       "      <td>1.0</td>\n",
       "      <td>2.0</td>\n",
       "      <td>0.0</td>\n",
       "      <td>2.0</td>\n",
       "    </tr>\n",
       "    <tr>\n",
       "      <th>272</th>\n",
       "      <td>1.0</td>\n",
       "      <td>3.0</td>\n",
       "      <td>0.0</td>\n",
       "      <td>5.0</td>\n",
       "      <td>4.0</td>\n",
       "      <td>1.0</td>\n",
       "      <td>2.0</td>\n",
       "      <td>0.0</td>\n",
       "      <td>2.0</td>\n",
       "    </tr>\n",
       "  </tbody>\n",
       "</table>\n",
       "<p>273 rows × 9 columns</p>\n",
       "</div>"
      ],
      "text/plain": [
       "     Class  Age  Menopause  Tumor-size  Inv-nodes  Node-caps  Deg-malig  \\\n",
       "0      0.0  1.0        2.0         5.0        0.0        1.0        2.0   \n",
       "1      0.0  2.0        2.0         3.0        0.0        1.0        1.0   \n",
       "2      0.0  2.0        2.0         3.0        0.0        1.0        1.0   \n",
       "3      0.0  4.0        0.0         2.0        0.0        1.0        1.0   \n",
       "4      0.0  2.0        2.0         0.0        0.0        1.0        1.0   \n",
       "..     ...  ...        ...         ...        ...        ...        ...   \n",
       "268    1.0  1.0        2.0         5.0        0.0        1.0        1.0   \n",
       "269    1.0  1.0        2.0         3.0        0.0        1.0        2.0   \n",
       "270    1.0  4.0        0.0         3.0        0.0        1.0        0.0   \n",
       "271    1.0  2.0        0.0         5.0        4.0        1.0        2.0   \n",
       "272    1.0  3.0        0.0         5.0        4.0        1.0        2.0   \n",
       "\n",
       "     Breast  Breast-quad  \n",
       "0       0.0          2.0  \n",
       "1       1.0          5.0  \n",
       "2       0.0          2.0  \n",
       "3       1.0          3.0  \n",
       "4       1.0          4.0  \n",
       "..      ...          ...  \n",
       "268     0.0          3.0  \n",
       "269     0.0          3.0  \n",
       "270     1.0          3.0  \n",
       "271     0.0          2.0  \n",
       "272     0.0          2.0  \n",
       "\n",
       "[273 rows x 9 columns]"
      ]
     },
     "execution_count": 52,
     "metadata": {},
     "output_type": "execute_result"
    }
   ],
   "source": [
    "\n",
    "columns = ['Class', 'Age', 'Menopause', 'Tumor-size', 'Inv-nodes', 'Node-caps', 'Deg-malig', 'Breast', 'Breast-quad']\n",
    "\n",
    "xpd = pd.DataFrame(X_enc, columns = columns)\n",
    "xpd"
   ]
  },
  {
   "cell_type": "markdown",
   "id": "2cdeaede",
   "metadata": {},
   "source": [
    "# Categorical Feature Selection"
   ]
  },
  {
   "cell_type": "markdown",
   "id": "8e63b230",
   "metadata": {},
   "source": [
    "Chi-Squared Feature Selection"
   ]
  },
  {
   "cell_type": "code",
   "execution_count": 206,
   "id": "54b7de1f",
   "metadata": {},
   "outputs": [
    {
     "name": "stdout",
     "output_type": "stream",
     "text": [
      "Feature 0: 10.914495\n",
      "Feature 1: 0.106827\n",
      "Feature 2: 0.365576\n",
      "Feature 3: 5.836972\n",
      "Feature 4: 109.266170\n",
      "Feature 5: 1.788158\n",
      "Feature 6: 6.168520\n",
      "Feature 7: 0.038200\n",
      "Feature 8: 0.008642\n"
     ]
    },
    {
     "data": {
      "image/png": "[encoded data removed]",
      "text/plain": [
       "<Figure size 432x288 with 1 Axes>"
      ]
     },
     "metadata": {
      "needs_background": "light"
     },
     "output_type": "display_data"
    }
   ],
   "source": [
    "fs = SelectKBest(score_func=chi2, k='all') \n",
    "fs.fit(xpd, y_enc)\n",
    "X_enc_ch = fs.transform(X_enc) \n",
    "\n",
    "\n",
    "# Scores for the features - Chi-Squared Feature Selection\n",
    "for i in range(len(fs.scores_)): print('Feature %d: %f' % (i, fs.scores_[i]))\n",
    "# plot the scores\n",
    "pyplot.bar([i for i in range(len(fs.scores_))], fs.scores_)\n",
    "pyplot.show()"
   ]
  },
  {
   "cell_type": "markdown",
   "id": "a5409806",
   "metadata": {},
   "source": [
    "Mutual Information Feature Selection"
   ]
  },
  {
   "cell_type": "code",
   "execution_count": 134,
   "id": "03d034f3",
   "metadata": {},
   "outputs": [
    {
     "name": "stdout",
     "output_type": "stream",
     "text": [
      "Feature 0: 0.019176\n",
      "Feature 1: 0.000000\n",
      "Feature 2: 0.000000\n",
      "Feature 3: 0.015117\n",
      "Feature 4: 0.039521\n",
      "Feature 5: 0.038424\n",
      "Feature 6: 0.046224\n",
      "Feature 7: 0.000000\n",
      "Feature 8: 0.000000\n"
     ]
    },
    {
     "data": {
      "image/png": "[encoded data removed]",
      "text/plain": [
       "<Figure size 432x288 with 1 Axes>"
      ]
     },
     "metadata": {
      "needs_background": "light"
     },
     "output_type": "display_data"
    }
   ],
   "source": [
    "# feature selection\n",
    "seed =2\n",
    "\n",
    "\n",
    "fs_mi = SelectKBest(score_func=mutual_info_classif, k='all') \n",
    "fs_mi.fit(xpd, y_enc)\n",
    "X_enc_mi = fs.transform(X_enc)\n",
    "#X_test_fs = fs.transform(X_test)\n",
    "# Scores for the features - Mutual Information Feature Selection\n",
    "for i in range(len(fs_mi.scores_)): \n",
    "    print('Feature %d: %f' % (i, fs_mi.scores_[i]))\n",
    "\n",
    "# plot the scores\n",
    "pyplot.bar([i for i in range(len(fs_mi.scores_))], fs_mi.scores_)\n",
    "pyplot.show()"
   ]
  },
  {
   "cell_type": "markdown",
   "id": "042b0121",
   "metadata": {},
   "source": [
    "#owing to the stochastic nature of the classifier the results may vary"
   ]
  },
  {
   "cell_type": "code",
   "execution_count": 131,
   "id": "dd117bc3",
   "metadata": {},
   "outputs": [
    {
     "data": {
      "text/html": [
       "<div>\n",
       "<style scoped>\n",
       "    .dataframe tbody tr th:only-of-type {\n",
       "        vertical-align: middle;\n",
       "    }\n",
       "\n",
       "    .dataframe tbody tr th {\n",
       "        vertical-align: top;\n",
       "    }\n",
       "\n",
       "    .dataframe thead th {\n",
       "        text-align: right;\n",
       "    }\n",
       "</style>\n",
       "<table border=\"1\" class=\"dataframe\">\n",
       "  <thead>\n",
       "    <tr style=\"text-align: right;\">\n",
       "      <th></th>\n",
       "      <th>Class</th>\n",
       "      <th>Tumor-size</th>\n",
       "      <th>Inv-nodes</th>\n",
       "      <th>Node-caps</th>\n",
       "      <th>Deg-malig</th>\n",
       "    </tr>\n",
       "  </thead>\n",
       "  <tbody>\n",
       "    <tr>\n",
       "      <th>0</th>\n",
       "      <td>0.0</td>\n",
       "      <td>5.0</td>\n",
       "      <td>0.0</td>\n",
       "      <td>1.0</td>\n",
       "      <td>2.0</td>\n",
       "    </tr>\n",
       "    <tr>\n",
       "      <th>1</th>\n",
       "      <td>0.0</td>\n",
       "      <td>3.0</td>\n",
       "      <td>0.0</td>\n",
       "      <td>1.0</td>\n",
       "      <td>1.0</td>\n",
       "    </tr>\n",
       "    <tr>\n",
       "      <th>2</th>\n",
       "      <td>0.0</td>\n",
       "      <td>3.0</td>\n",
       "      <td>0.0</td>\n",
       "      <td>1.0</td>\n",
       "      <td>1.0</td>\n",
       "    </tr>\n",
       "    <tr>\n",
       "      <th>3</th>\n",
       "      <td>0.0</td>\n",
       "      <td>2.0</td>\n",
       "      <td>0.0</td>\n",
       "      <td>1.0</td>\n",
       "      <td>1.0</td>\n",
       "    </tr>\n",
       "    <tr>\n",
       "      <th>4</th>\n",
       "      <td>0.0</td>\n",
       "      <td>0.0</td>\n",
       "      <td>0.0</td>\n",
       "      <td>1.0</td>\n",
       "      <td>1.0</td>\n",
       "    </tr>\n",
       "  </tbody>\n",
       "</table>\n",
       "</div>"
      ],
      "text/plain": [
       "   Class  Tumor-size  Inv-nodes  Node-caps  Deg-malig\n",
       "0    0.0         5.0        0.0        1.0        2.0\n",
       "1    0.0         3.0        0.0        1.0        1.0\n",
       "2    0.0         3.0        0.0        1.0        1.0\n",
       "3    0.0         2.0        0.0        1.0        1.0\n",
       "4    0.0         0.0        0.0        1.0        1.0"
      ]
     },
     "execution_count": 131,
     "metadata": {},
     "output_type": "execute_result"
    }
   ],
   "source": [
    "xpd_fs = xpd.drop(['Age', 'Menopause', 'Breast', 'Breast-quad'], axis = 1)\n",
    "xpd_fs.head()"
   ]
  },
  {
   "cell_type": "markdown",
   "id": "cb2cf1c7",
   "metadata": {},
   "source": [
    "# 4.Model"
   ]
  },
  {
   "cell_type": "code",
   "execution_count": 132,
   "id": "189d022a",
   "metadata": {},
   "outputs": [
    {
     "data": {
      "text/plain": [
       "0.1714768747736264"
      ]
     },
     "execution_count": 132,
     "metadata": {},
     "output_type": "execute_result"
    }
   ],
   "source": [
    "# calculate reference brier score\n",
    "\n",
    "\n",
    "ref_probs = [0.21978 for _ in range(len(y_enc))]\n",
    "bs_ref = brier_score_loss(y_enc, ref_probs)\n",
    "bs_ref"
   ]
  },
  {
   "cell_type": "markdown",
   "id": "7c3bf278",
   "metadata": {},
   "source": [
    "Given that we are interested in predicting a probability of Radiation taken, we need a performance metric that evaluates the skill of a model based on the predicted probabilities. In this case, we will use the Brier score that calculates the mean squared error between the predicted probabilities and the expected probabilities. This can be calculated using the brier score loss() scikit-learn function. This score is minimized, with a perfect score of 0.0. We can invert the score to be maximizing by comparing a predicted score to a reference score, showing how much better the model is compared to the reference between 0.0 for the same, to 1.0 with perfect skill. Any models that achieve a score less than 0.0 represents less skill than the reference model. This is called the Brier Skill Score, or BSS for short."
   ]
  },
  {
   "cell_type": "code",
   "execution_count": 137,
   "id": "416596d3",
   "metadata": {},
   "outputs": [],
   "source": [
    "# calculate brier skill score (BSS)\n",
    "def brier_skill_score(y_enc, y_prob = 0.21978):\n",
    "  # calculate reference brier score\n",
    "    #pos_prob = count_nonzero(y_enc) / len(y_enc)\n",
    "    ref_probs = [0.21978 for _ in range(len(y_enc))]\n",
    "    bs_ref = brier_score_loss(y_enc, ref_probs)\n",
    "  # calculate model brier score\n",
    "    bs_model = brier_score_loss(y_enc, y_prob)\n",
    "  # calculate skill score\n",
    "    return 1.0 - (bs_model / bs_ref)"
   ]
  },
  {
   "cell_type": "markdown",
   "id": "b96df086",
   "metadata": {},
   "source": [
    "First, we need a Brier score for a reference prediction. A reference prediction for a problem in which we are predicting probabilities is the probability of the positive class label in the dataset. In this case, the positive class label represents radiation taken and occurs about 21.978% in the dataset. Therefore, predicting about 0.21978 represents the worst-case or baseline performance for a predictive model on this dataset. Any model that has a Brier score better than this has some skill, where as any model that as a Brier score lower than this has no skill. The Brier Skill Score captures this important relationship. "
   ]
  },
  {
   "cell_type": "code",
   "execution_count": 138,
   "id": "985f8271",
   "metadata": {},
   "outputs": [],
   "source": [
    "# define the model evaluation the metric\n",
    "\n",
    "\n",
    "metric = make_scorer(brier_skill_score, needs_proba=True)\n"
   ]
  },
  {
   "cell_type": "markdown",
   "id": "e9c65141",
   "metadata": {},
   "source": [
    "we can make use of the brier skill score() function to evaluate a model using repeated stratified k-fold cross-validation.To ensure that models were evaluated on probabilities instead of class labels, a custom metric based on make scorer () function from scikit-learn was used. It creates a score for the predict probs () function of different models."
   ]
  },
  {
   "cell_type": "code",
   "execution_count": 139,
   "id": "6f02b9b2",
   "metadata": {},
   "outputs": [],
   "source": [
    "# evaluate a model\n",
    "\n",
    "\n",
    "\n",
    "def evaluate_model(X, y, model):\n",
    "  # define evaluation procedure\n",
    "  cv = RepeatedStratifiedKFold(n_splits=10, n_repeats=3, random_state=1)\n",
    "  # define the model evaluation the metric\n",
    "  metric = make_scorer(brier_skill_score, needs_proba=True)\n",
    "  # evaluate model\n",
    "  scores = cross_val_score(model, X, y, scoring=metric, cv=cv, n_jobs=-1)\n",
    "  return scores\n"
   ]
  },
  {
   "cell_type": "markdown",
   "id": "73c22655",
   "metadata": {},
   "source": [
    "the baseline strategy of predicting the distribution of positive examples in the training set as the probability of each case in the test set. This can be implemented automatically using the DummyClassifier class and setting the strategy to\n",
    "‘prior’ that will predict the prior probability of each class in the training dataset, which for the positive class we know is about 0.21978."
   ]
  },
  {
   "cell_type": "code",
   "execution_count": 140,
   "id": "90cc1d44",
   "metadata": {},
   "outputs": [],
   "source": [
    "# define the reference model\n",
    "\n",
    "\n",
    "\n",
    "model = DummyClassifier(strategy='prior')"
   ]
  },
  {
   "cell_type": "markdown",
   "id": "1af4f667",
   "metadata": {},
   "source": [
    "We would expect the baseline model to achieve a BSS of 0.0, e.g. the same as the reference model because it is the reference model."
   ]
  },
  {
   "cell_type": "markdown",
   "id": "c9935348",
   "metadata": {},
   "source": [
    "# 5. Evaluation"
   ]
  },
  {
   "cell_type": "markdown",
   "id": "b8b75258",
   "metadata": {},
   "source": [
    "evaluate a suite of models that are known to be effective at predicting probabilities. Specifically, these are models that are fit under a probabilistic framework and explicitly predict a calibrated probability for each example.\n",
    "compare each algorithm based on the mean score, as well as based on their distribution of scores."
   ]
  },
  {
   "cell_type": "code",
   "execution_count": 141,
   "id": "016696fa",
   "metadata": {},
   "outputs": [
    {
     "name": "stdout",
     "output_type": "stream",
     "text": [
      "(273, 9) (273,) Counter({0: 213, 1: 60})\n",
      "Mean BSS: -0.000 (0.000)\n"
     ]
    }
   ],
   "source": [
    "# evaluate the model\n",
    "\n",
    "\n",
    "print(X_enc.shape, y_enc.shape, Counter(y_enc))\n",
    "scores = evaluate_model(X_enc, y_enc, model)\n",
    "# summarize performance\n",
    "print('Mean BSS: %.3f (%.3f)' % (mean(scores), std(scores)))"
   ]
  },
  {
   "cell_type": "code",
   "execution_count": 148,
   "id": "19b6779c",
   "metadata": {},
   "outputs": [],
   "source": [
    "# define models to test\n",
    "\n",
    "\n",
    "\n",
    "def get_models():\n",
    "    models, names = list(), list()\n",
    "    # LR \n",
    "    models.append(LogisticRegression(solver='lbfgs')) \n",
    "    names.append('LR')\n",
    "    # LDA\n",
    "    models.append(LinearDiscriminantAnalysis()) \n",
    "    names.append('LDA')\n",
    "    # QDA \n",
    "    models.append(QuadraticDiscriminantAnalysis()) \n",
    "    names.append('QDA')\n",
    "    # GNB\n",
    "    models.append(GaussianNB())\n",
    "    names.append('GNB')\n",
    "    # MNB\n",
    "    models.append(MultinomialNB()) \n",
    "    names.append('MNB')\n",
    "    # GPC\n",
    "    models.append(GaussianProcessClassifier()) \n",
    "    names.append('GPC')\n",
    "    return models, names"
   ]
  },
  {
   "cell_type": "code",
   "execution_count": 151,
   "id": "c9dc35f2",
   "metadata": {},
   "outputs": [
    {
     "name": "stdout",
     "output_type": "stream",
     "text": [
      ">LR 0.070 (0.157)\n",
      ">LDA 0.053 (0.194)\n",
      ">QDA -0.059 (0.335)\n",
      ">GNB -0.094 (0.346)\n",
      ">MNB -0.102 (0.322)\n",
      ">GPC -0.062 (0.072)\n"
     ]
    },
    {
     "data": {
      "image/png": "[encoded data removed]",
      "text/plain": [
       "<Figure size 432x288 with 1 Axes>"
      ]
     },
     "metadata": {
      "needs_background": "light"
     },
     "output_type": "display_data"
    }
   ],
   "source": [
    "# evaluating the performance of the models on the entire data set\n",
    "\n",
    "models, names = get_models()\n",
    "\n",
    "results = list()\n",
    "# evaluate each model\n",
    "for i in range(len(models)):\n",
    "  # evaluate the model and store results\n",
    "    scores = evaluate_model(X_enc, y_enc, models[i])\n",
    "    results.append(scores)\n",
    "# summarize and store\n",
    "    print('>%s %.3f (%.3f)' % (names[i], mean(scores), std(scores)))\n",
    "\n",
    "pyplot.boxplot(results, labels=names, showmeans=True)\n",
    "pyplot.show()"
   ]
  },
  {
   "cell_type": "markdown",
   "id": "44fb9ac5",
   "metadata": {},
   "source": [
    "Among the 6 classifiers tested, namely- logistic regression, Linear Discriminant Analysis, Quadratic Discriminant Analysis, Gaussian Naive Bayes, Multinomial Naive Bayes and Gaussian Process Classifier, only two namely - Logistic Regression and Linnear Discriminant Analysis have shown better skill.  "
   ]
  },
  {
   "cell_type": "code",
   "execution_count": 153,
   "id": "06efbb23",
   "metadata": {},
   "outputs": [
    {
     "name": "stdout",
     "output_type": "stream",
     "text": [
      ">LR 0.090 (0.145)\n",
      ">LDA 0.072 (0.185)\n",
      ">QDA -0.019 (0.341)\n",
      ">GNB -0.094 (0.341)\n",
      ">MNB -0.038 (0.287)\n",
      ">GPC 0.104 (0.113)\n"
     ]
    },
    {
     "data": {
      "image/png": "[encoded data removed]",
      "text/plain": [
       "<Figure size 432x288 with 1 Axes>"
      ]
     },
     "metadata": {
      "needs_background": "light"
     },
     "output_type": "display_data"
    }
   ],
   "source": [
    "# evaluating the performance of the models on the feature selected data set\n",
    "\n",
    "models, names = get_models()\n",
    "\n",
    "results = list()\n",
    "# evaluate each model\n",
    "for i in range(len(models)):\n",
    "  # evaluate the model and store results\n",
    "    scores = evaluate_model(xpd_fs, y_enc, models[i])\n",
    "    results.append(scores)\n",
    "# summarize and store\n",
    "    print('>%s %.3f (%.3f)' % (names[i], mean(scores), std(scores)))\n",
    "\n",
    "pyplot.boxplot(results, labels=names, showmeans=True)\n",
    "pyplot.show()"
   ]
  },
  {
   "cell_type": "markdown",
   "id": "e49e83fa",
   "metadata": {},
   "source": [
    "To improve the performance of the models, this time the models were were tested on feature sampled data obtained from chi  squared feature selection. Method. The performance on feature sampled data was better than earlier. Besides, Gaussian Process Classifier now has a positive skill and out performed Linear regression.\n"
   ]
  },
  {
   "cell_type": "markdown",
   "id": "4fc47c91",
   "metadata": {},
   "source": [
    "# 6. Test Data"
   ]
  },
  {
   "cell_type": "code",
   "execution_count": 183,
   "id": "d6f33e18",
   "metadata": {},
   "outputs": [
    {
     "data": {
      "text/plain": [
       "count       8\n",
       "unique      4\n",
       "top       3-5\n",
       "freq        3\n",
       "Name: Inv-nodes, dtype: object"
      ]
     },
     "execution_count": 183,
     "metadata": {},
     "output_type": "execute_result"
    }
   ],
   "source": [
    "X_test['Inv-nodes'].describe()"
   ]
  },
  {
   "cell_type": "code",
   "execution_count": 184,
   "id": "fa2263e5",
   "metadata": {},
   "outputs": [
    {
     "data": {
      "text/html": [
       "<div>\n",
       "<style scoped>\n",
       "    .dataframe tbody tr th:only-of-type {\n",
       "        vertical-align: middle;\n",
       "    }\n",
       "\n",
       "    .dataframe tbody tr th {\n",
       "        vertical-align: top;\n",
       "    }\n",
       "\n",
       "    .dataframe thead th {\n",
       "        text-align: right;\n",
       "    }\n",
       "</style>\n",
       "<table border=\"1\" class=\"dataframe\">\n",
       "  <thead>\n",
       "    <tr style=\"text-align: right;\">\n",
       "      <th></th>\n",
       "      <th>Class</th>\n",
       "      <th>Age</th>\n",
       "      <th>Menopause</th>\n",
       "      <th>Tumor-size</th>\n",
       "      <th>Inv-nodes</th>\n",
       "      <th>Node-caps</th>\n",
       "      <th>Deg-malig</th>\n",
       "      <th>Breast</th>\n",
       "      <th>Breast-quad</th>\n",
       "    </tr>\n",
       "  </thead>\n",
       "  <tbody>\n",
       "    <tr>\n",
       "      <th>0</th>\n",
       "      <td>no-recurrence-events</td>\n",
       "      <td>30-39</td>\n",
       "      <td>premeno</td>\n",
       "      <td>25-29</td>\n",
       "      <td>6-8</td>\n",
       "      <td>yes</td>\n",
       "      <td>2</td>\n",
       "      <td>right</td>\n",
       "      <td>left_up</td>\n",
       "    </tr>\n",
       "    <tr>\n",
       "      <th>1</th>\n",
       "      <td>no-recurrence-events</td>\n",
       "      <td>50-59</td>\n",
       "      <td>premeno</td>\n",
       "      <td>25-29</td>\n",
       "      <td>3-5</td>\n",
       "      <td>yes</td>\n",
       "      <td>2</td>\n",
       "      <td>left</td>\n",
       "      <td>left_up</td>\n",
       "    </tr>\n",
       "    <tr>\n",
       "      <th>2</th>\n",
       "      <td>no-recurrence-events</td>\n",
       "      <td>40-49</td>\n",
       "      <td>premeno</td>\n",
       "      <td>35-39</td>\n",
       "      <td>9-11</td>\n",
       "      <td>yes</td>\n",
       "      <td>2</td>\n",
       "      <td>right</td>\n",
       "      <td>left_up</td>\n",
       "    </tr>\n",
       "    <tr>\n",
       "      <th>3</th>\n",
       "      <td>no-recurrence-events</td>\n",
       "      <td>40-49</td>\n",
       "      <td>premeno</td>\n",
       "      <td>35-39</td>\n",
       "      <td>9-11</td>\n",
       "      <td>yes</td>\n",
       "      <td>2</td>\n",
       "      <td>right</td>\n",
       "      <td>right_up</td>\n",
       "    </tr>\n",
       "    <tr>\n",
       "      <th>4</th>\n",
       "      <td>no-recurrence-events</td>\n",
       "      <td>40-49</td>\n",
       "      <td>premeno</td>\n",
       "      <td>40-44</td>\n",
       "      <td>3-5</td>\n",
       "      <td>yes</td>\n",
       "      <td>3</td>\n",
       "      <td>right</td>\n",
       "      <td>left_up</td>\n",
       "    </tr>\n",
       "    <tr>\n",
       "      <th>5</th>\n",
       "      <td>no-recurrence-events</td>\n",
       "      <td>40-49</td>\n",
       "      <td>premeno</td>\n",
       "      <td>30-34</td>\n",
       "      <td>6-8</td>\n",
       "      <td>no</td>\n",
       "      <td>2</td>\n",
       "      <td>left</td>\n",
       "      <td>left_up</td>\n",
       "    </tr>\n",
       "    <tr>\n",
       "      <th>6</th>\n",
       "      <td>no-recurrence-events</td>\n",
       "      <td>50-59</td>\n",
       "      <td>ge40</td>\n",
       "      <td>40-44</td>\n",
       "      <td>0-2</td>\n",
       "      <td>no</td>\n",
       "      <td>3</td>\n",
       "      <td>left</td>\n",
       "      <td>right_up</td>\n",
       "    </tr>\n",
       "    <tr>\n",
       "      <th>7</th>\n",
       "      <td>no-recurrence-events</td>\n",
       "      <td>60-69</td>\n",
       "      <td>ge40</td>\n",
       "      <td>30-34</td>\n",
       "      <td>3-5</td>\n",
       "      <td>no</td>\n",
       "      <td>2</td>\n",
       "      <td>left</td>\n",
       "      <td>left_low</td>\n",
       "    </tr>\n",
       "    <tr>\n",
       "      <th>8</th>\n",
       "      <td>no-recurrence-events</td>\n",
       "      <td>30-39</td>\n",
       "      <td>premeno</td>\n",
       "      <td>20-24</td>\n",
       "      <td>3-5</td>\n",
       "      <td>no</td>\n",
       "      <td>2</td>\n",
       "      <td>right</td>\n",
       "      <td>central</td>\n",
       "    </tr>\n",
       "    <tr>\n",
       "      <th>9</th>\n",
       "      <td>no-recurrence-events</td>\n",
       "      <td>30-39</td>\n",
       "      <td>premeno</td>\n",
       "      <td>40-44</td>\n",
       "      <td>3-5</td>\n",
       "      <td>no</td>\n",
       "      <td>3</td>\n",
       "      <td>right</td>\n",
       "      <td>right_up</td>\n",
       "    </tr>\n",
       "  </tbody>\n",
       "</table>\n",
       "</div>"
      ],
      "text/plain": [
       "                  Class    Age Menopause Tumor-size Inv-nodes Node-caps  \\\n",
       "0  no-recurrence-events  30-39   premeno      25-29       6-8       yes   \n",
       "1  no-recurrence-events  50-59   premeno      25-29       3-5       yes   \n",
       "2  no-recurrence-events  40-49   premeno      35-39      9-11       yes   \n",
       "3  no-recurrence-events  40-49   premeno      35-39      9-11       yes   \n",
       "4  no-recurrence-events  40-49   premeno      40-44       3-5       yes   \n",
       "5  no-recurrence-events  40-49   premeno      30-34       6-8        no   \n",
       "6  no-recurrence-events  50-59      ge40      40-44       0-2        no   \n",
       "7  no-recurrence-events  60-69      ge40      30-34       3-5        no   \n",
       "8  no-recurrence-events  30-39   premeno      20-24       3-5        no   \n",
       "9  no-recurrence-events  30-39   premeno      40-44       3-5        no   \n",
       "\n",
       "   Deg-malig Breast Breast-quad  \n",
       "0          2  right     left_up  \n",
       "1          2   left     left_up  \n",
       "2          2  right     left_up  \n",
       "3          2  right    right_up  \n",
       "4          3  right     left_up  \n",
       "5          2   left     left_up  \n",
       "6          3   left    right_up  \n",
       "7          2   left    left_low  \n",
       "8          2  right     central  \n",
       "9          3  right    right_up  "
      ]
     },
     "execution_count": 184,
     "metadata": {},
     "output_type": "execute_result"
    }
   ],
   "source": [
    "#imputing the missing values in the test data with most frequent (mode) categorical value\n",
    "\n",
    "top = '3-5'\n",
    "X_test['Inv-nodes'] = X_test['Inv-nodes'].fillna(top)\n",
    "X_test"
   ]
  },
  {
   "cell_type": "code",
   "execution_count": 185,
   "id": "73a537f2",
   "metadata": {},
   "outputs": [
    {
     "data": {
      "text/plain": [
       "array([[0., 1., 2., 4., 5., 2., 1., 1., 3.],\n",
       "       [0., 3., 2., 4., 4., 2., 1., 0., 3.],\n",
       "       [0., 2., 2., 6., 6., 2., 1., 1., 3.],\n",
       "       [0., 2., 2., 6., 6., 2., 1., 1., 5.],\n",
       "       [0., 2., 2., 7., 4., 2., 2., 1., 3.],\n",
       "       [0., 2., 2., 5., 5., 1., 1., 0., 3.],\n",
       "       [0., 3., 0., 7., 0., 1., 2., 0., 5.],\n",
       "       [0., 4., 0., 5., 4., 1., 1., 0., 2.],\n",
       "       [0., 1., 2., 3., 4., 1., 1., 1., 1.],\n",
       "       [0., 1., 2., 7., 4., 1., 2., 1., 5.]])"
      ]
     },
     "execution_count": 185,
     "metadata": {},
     "output_type": "execute_result"
    }
   ],
   "source": [
    "#ordinal encoding the test data\n",
    "\n",
    "X_test_enc = oe.transform(X_test)\n",
    "X_test_enc"
   ]
  },
  {
   "cell_type": "markdown",
   "id": "174c9667",
   "metadata": {},
   "source": [
    "Based on the models performance in evaluation, Three models were build -  Logistic regression  with and without feature selection and Gaussian Process Classifier with feature selection."
   ]
  },
  {
   "cell_type": "code",
   "execution_count": 242,
   "id": "ab7c6c5f",
   "metadata": {},
   "outputs": [
    {
     "data": {
      "text/plain": [
       "LogisticRegression()"
      ]
     },
     "execution_count": 242,
     "metadata": {},
     "output_type": "execute_result"
    }
   ],
   "source": [
    "#logistic regression trained on the entire data set\n",
    "\n",
    "model = LogisticRegression(solver='lbfgs')\n",
    "model.fit(X_enc, y_enc)"
   ]
  },
  {
   "cell_type": "code",
   "execution_count": 243,
   "id": "e5d8f3c8",
   "metadata": {},
   "outputs": [
    {
     "name": "stdout",
     "output_type": "stream",
     "text": [
      "data=[0. 1. 2. 4. 5. 2. 1. 1. 3.], to take radiation=59.425%\n",
      "data=[0. 3. 2. 4. 4. 2. 1. 0. 3.], to take radiation=61.900%\n",
      "data=[0. 2. 2. 6. 6. 2. 1. 1. 3.], to take radiation=43.084%\n",
      "data=[0. 2. 2. 6. 6. 2. 1. 1. 5.], to take radiation=46.287%\n",
      "data=[0. 2. 2. 7. 4. 2. 2. 1. 3.], to take radiation=46.150%\n",
      "data=[0. 2. 2. 5. 5. 1. 1. 0. 3.], to take radiation=52.121%\n",
      "data=[0. 3. 0. 7. 0. 1. 2. 0. 5.], to take radiation=83.045%\n",
      "data=[0. 4. 0. 5. 4. 1. 1. 0. 2.], to take radiation=65.447%\n",
      "data=[0. 1. 2. 3. 4. 1. 1. 1. 1.], to take radiation=64.330%\n",
      "data=[0. 1. 2. 7. 4. 1. 2. 1. 5.], to take radiation=50.073%\n"
     ]
    }
   ],
   "source": [
    "plr_c = []\n",
    "\n",
    "for i in X_test_enc:\n",
    "    # make prediction\n",
    "    yhat = model.predict_proba([i])\n",
    "    # get percentage to take radiatiaon\n",
    "    p_to_take_radiation = yhat[0, 0] * 100\n",
    "    plr_c.append(p_to_take_radiation)\n",
    "    # summarize\n",
    "    print('data=%s, to take radiation=%.3f%%' % (i, p_to_take_radiation))\n"
   ]
  },
  {
   "cell_type": "code",
   "execution_count": 232,
   "id": "a7729f09",
   "metadata": {},
   "outputs": [
    {
     "data": {
      "text/plain": [
       "[[0.0, 4.0, 5.0, 2.0, 1.0],\n",
       " [0.0, 4.0, 4.0, 2.0, 1.0],\n",
       " [0.0, 6.0, 6.0, 2.0, 1.0],\n",
       " [0.0, 6.0, 6.0, 2.0, 1.0],\n",
       " [0.0, 7.0, 4.0, 2.0, 2.0],\n",
       " [0.0, 5.0, 5.0, 1.0, 1.0],\n",
       " [0.0, 7.0, 0.0, 1.0, 2.0],\n",
       " [0.0, 5.0, 4.0, 1.0, 1.0],\n",
       " [0.0, 3.0, 4.0, 1.0, 1.0],\n",
       " [0.0, 7.0, 4.0, 1.0, 2.0]]"
      ]
     },
     "execution_count": 232,
     "metadata": {},
     "output_type": "execute_result"
    }
   ],
   "source": [
    "# selecting the features based on chi square feature selection\n",
    "\n",
    "\n",
    "\n",
    "xpd_test = pd.DataFrame(X_test_enc, columns = columns)\n",
    "\n",
    "xpd_test_fs = xpd_test.drop(['Age', 'Menopause', 'Breast', 'Breast-quad'], axis = 1)\n",
    "xpd_test_fs = xpd_test_fs.values.tolist()\n",
    "xpd_test_fs"
   ]
  },
  {
   "cell_type": "code",
   "execution_count": 244,
   "id": "7dd7dbed",
   "metadata": {},
   "outputs": [
    {
     "data": {
      "text/plain": [
       "LogisticRegression()"
      ]
     },
     "execution_count": 244,
     "metadata": {},
     "output_type": "execute_result"
    }
   ],
   "source": [
    "#logistic regression trained on the feature selected data set\n",
    "\n",
    "model = LogisticRegression(solver='lbfgs')\n",
    "model.fit(xpd_fs, y_enc)"
   ]
  },
  {
   "cell_type": "code",
   "execution_count": 245,
   "id": "0e21c952",
   "metadata": {},
   "outputs": [
    {
     "name": "stdout",
     "output_type": "stream",
     "text": [
      "data=[0.0, 4.0, 5.0, 2.0, 1.0], to take radiation=61.057%\n",
      "data=[0.0, 4.0, 4.0, 2.0, 1.0], to take radiation=67.926%\n",
      "data=[0.0, 6.0, 6.0, 2.0, 1.0], to take radiation=48.411%\n",
      "data=[0.0, 6.0, 6.0, 2.0, 1.0], to take radiation=48.411%\n",
      "data=[0.0, 7.0, 4.0, 2.0, 2.0], to take radiation=52.207%\n",
      "data=[0.0, 5.0, 5.0, 1.0, 1.0], to take radiation=57.067%\n",
      "data=[0.0, 7.0, 0.0, 1.0, 2.0], to take radiation=77.418%\n",
      "data=[0.0, 5.0, 4.0, 1.0, 1.0], to take radiation=64.227%\n",
      "data=[0.0, 3.0, 4.0, 1.0, 1.0], to take radiation=68.953%\n",
      "data=[0.0, 7.0, 4.0, 1.0, 2.0], to take radiation=50.738%\n"
     ]
    }
   ],
   "source": [
    "plr_fs = []\n",
    "\n",
    "for i in xpd_test_fs:\n",
    "    # make prediction\n",
    "    yhat = model.predict_proba([i])\n",
    "    # get percentage to take radiatiaon\n",
    "    p_to_take_radiation = yhat[0, 0] * 100\n",
    "    plr_fs.append(p_to_take_radiation)\n",
    "    # summarize\n",
    "    print('data=%s, to take radiation=%.3f%%' % (i, p_to_take_radiation))\n"
   ]
  },
  {
   "cell_type": "code",
   "execution_count": 246,
   "id": "775bef55",
   "metadata": {},
   "outputs": [
    {
     "data": {
      "text/plain": [
       "GaussianProcessClassifier()"
      ]
     },
     "execution_count": 246,
     "metadata": {},
     "output_type": "execute_result"
    }
   ],
   "source": [
    "#Gaussian Process Classifier trained on the feature selected data set\n",
    "\n",
    "model = GaussianProcessClassifier()\n",
    "model.fit(xpd_fs, y_enc)"
   ]
  },
  {
   "cell_type": "code",
   "execution_count": 247,
   "id": "59cf39a0",
   "metadata": {},
   "outputs": [
    {
     "name": "stdout",
     "output_type": "stream",
     "text": [
      "data=[0.0, 4.0, 5.0, 2.0, 1.0], to take radiation=52.263%\n",
      "data=[0.0, 4.0, 4.0, 2.0, 1.0], to take radiation=50.220%\n",
      "data=[0.0, 6.0, 6.0, 2.0, 1.0], to take radiation=56.020%\n",
      "data=[0.0, 6.0, 6.0, 2.0, 1.0], to take radiation=56.020%\n",
      "data=[0.0, 7.0, 4.0, 2.0, 2.0], to take radiation=57.685%\n",
      "data=[0.0, 5.0, 5.0, 1.0, 1.0], to take radiation=54.375%\n",
      "data=[0.0, 7.0, 0.0, 1.0, 2.0], to take radiation=71.091%\n",
      "data=[0.0, 5.0, 4.0, 1.0, 1.0], to take radiation=55.952%\n",
      "data=[0.0, 3.0, 4.0, 1.0, 1.0], to take radiation=53.003%\n",
      "data=[0.0, 7.0, 4.0, 1.0, 2.0], to take radiation=51.723%\n"
     ]
    }
   ],
   "source": [
    "gpc_fs = []\n",
    "\n",
    "for i in xpd_test_fs:\n",
    "    # make prediction\n",
    "    yhat = model.predict_proba([i])\n",
    "    # get percentage to take radiatiaon\n",
    "    p_to_take_radiation = yhat[0, 0] * 100\n",
    "    gpc_fs.append(p_to_take_radiation)\n",
    "    # summarize\n",
    "    print('data=%s, to take radiation=%.3f%%' % (i, p_to_take_radiation))"
   ]
  },
  {
   "cell_type": "code",
   "execution_count": 248,
   "id": "7437073c",
   "metadata": {},
   "outputs": [
    {
     "data": {
      "text/html": [
       "<div>\n",
       "<style scoped>\n",
       "    .dataframe tbody tr th:only-of-type {\n",
       "        vertical-align: middle;\n",
       "    }\n",
       "\n",
       "    .dataframe tbody tr th {\n",
       "        vertical-align: top;\n",
       "    }\n",
       "\n",
       "    .dataframe thead th {\n",
       "        text-align: right;\n",
       "    }\n",
       "</style>\n",
       "<table border=\"1\" class=\"dataframe\">\n",
       "  <thead>\n",
       "    <tr style=\"text-align: right;\">\n",
       "      <th></th>\n",
       "      <th>Logistic_Reg</th>\n",
       "      <th>Logistic_Reg_fs</th>\n",
       "      <th>Gausian_Process_clasif</th>\n",
       "    </tr>\n",
       "  </thead>\n",
       "  <tbody>\n",
       "    <tr>\n",
       "      <th>0</th>\n",
       "      <td>59.424830</td>\n",
       "      <td>61.057468</td>\n",
       "      <td>52.263460</td>\n",
       "    </tr>\n",
       "    <tr>\n",
       "      <th>1</th>\n",
       "      <td>61.900435</td>\n",
       "      <td>67.925989</td>\n",
       "      <td>50.219684</td>\n",
       "    </tr>\n",
       "    <tr>\n",
       "      <th>2</th>\n",
       "      <td>43.084333</td>\n",
       "      <td>48.410513</td>\n",
       "      <td>56.019702</td>\n",
       "    </tr>\n",
       "    <tr>\n",
       "      <th>3</th>\n",
       "      <td>46.287298</td>\n",
       "      <td>48.410513</td>\n",
       "      <td>56.019702</td>\n",
       "    </tr>\n",
       "    <tr>\n",
       "      <th>4</th>\n",
       "      <td>46.149851</td>\n",
       "      <td>52.206531</td>\n",
       "      <td>57.684829</td>\n",
       "    </tr>\n",
       "    <tr>\n",
       "      <th>5</th>\n",
       "      <td>52.121157</td>\n",
       "      <td>57.066792</td>\n",
       "      <td>54.374742</td>\n",
       "    </tr>\n",
       "    <tr>\n",
       "      <th>6</th>\n",
       "      <td>83.045373</td>\n",
       "      <td>77.418345</td>\n",
       "      <td>71.090704</td>\n",
       "    </tr>\n",
       "    <tr>\n",
       "      <th>7</th>\n",
       "      <td>65.446530</td>\n",
       "      <td>64.226784</td>\n",
       "      <td>55.951809</td>\n",
       "    </tr>\n",
       "    <tr>\n",
       "      <th>8</th>\n",
       "      <td>64.329558</td>\n",
       "      <td>68.952641</td>\n",
       "      <td>53.002956</td>\n",
       "    </tr>\n",
       "    <tr>\n",
       "      <th>9</th>\n",
       "      <td>50.072782</td>\n",
       "      <td>50.737684</td>\n",
       "      <td>51.723221</td>\n",
       "    </tr>\n",
       "  </tbody>\n",
       "</table>\n",
       "</div>"
      ],
      "text/plain": [
       "   Logistic_Reg  Logistic_Reg_fs  Gausian_Process_clasif\n",
       "0     59.424830        61.057468               52.263460\n",
       "1     61.900435        67.925989               50.219684\n",
       "2     43.084333        48.410513               56.019702\n",
       "3     46.287298        48.410513               56.019702\n",
       "4     46.149851        52.206531               57.684829\n",
       "5     52.121157        57.066792               54.374742\n",
       "6     83.045373        77.418345               71.090704\n",
       "7     65.446530        64.226784               55.951809\n",
       "8     64.329558        68.952641               53.002956\n",
       "9     50.072782        50.737684               51.723221"
      ]
     },
     "execution_count": 248,
     "metadata": {},
     "output_type": "execute_result"
    }
   ],
   "source": [
    "results = pd.DataFrame()\n",
    "results['Logistic_Reg'] = plr_c\n",
    "results['Logistic_Reg_fs'] = plr_fs\n",
    "results['Gausian_Process_clasif'] = gpc_fs\n",
    "results"
   ]
  },
  {
   "cell_type": "code",
   "execution_count": 250,
   "id": "5d6d2b12",
   "metadata": {},
   "outputs": [],
   "source": [
    "results.to_csv('~/Downloads/results.csv')"
   ]
  },
  {
   "cell_type": "code",
   "execution_count": null,
   "id": "b5b71994",
   "metadata": {},
   "outputs": [],
   "source": []
  },
  {
   "cell_type": "code",
   "execution_count": null,
   "id": "1f977f67",
   "metadata": {},
   "outputs": [],
   "source": []
  }
 ],
 "metadata": {
  "kernelspec": {
   "display_name": "Python 3",
   "language": "python",
   "name": "python3"
  },
  "language_info": {
   "codemirror_mode": {
    "name": "ipython",
    "version": 3
   },
   "file_extension": ".py",
   "mimetype": "text/x-python",
   "name": "python",
   "nbconvert_exporter": "python",
   "pygments_lexer": "ipython3",
   "version": "3.8.8"
  }
 },
 "nbformat": 4,
 "nbformat_minor": 5
}
